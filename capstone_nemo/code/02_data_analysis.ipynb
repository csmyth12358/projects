{
 "cells": [
  {
   "cell_type": "code",
   "execution_count": 1,
   "metadata": {
    "scrolled": true
   },
   "outputs": [
    {
     "name": "stderr",
     "output_type": "stream",
     "text": [
      "C:\\Users\\junho\\anaconda3\\lib\\site-packages\\numpy\\_distributor_init.py:30: UserWarning: loaded more than 1 DLL from .libs:\n",
      "C:\\Users\\junho\\anaconda3\\lib\\site-packages\\numpy\\.libs\\libopenblas.PYQHXLVVQ7VESDPUVUADXEVJOBGHJPAY.gfortran-win_amd64.dll\n",
      "C:\\Users\\junho\\anaconda3\\lib\\site-packages\\numpy\\.libs\\libopenblas.WCDJNK7YVMPZQ2ME2ZZHJJRJ3JIKNDB7.gfortran-win_amd64.dll\n",
      "  warnings.warn(\"loaded more than 1 DLL from .libs:\"\n"
     ]
    }
   ],
   "source": [
    "import numpy as np\n",
    "import scipy as sp\n",
    "import pandas as pd\n",
    "import matplotlib.pyplot as plt\n",
    "import seaborn as sns\n",
    "\n",
    "import scipy.signal as signal\n",
    "import peakutils\n",
    "import wfdb\n",
    "from wfdb import processing\n",
    "import ecg_plot\n",
    "import ast\n",
    "import neurokit2 as nk"
   ]
  },
  {
   "cell_type": "markdown",
   "metadata": {},
   "source": [
    "Load the raw data. The below cell has been taken from the example script in the PTB-XL dataset to load the data."
   ]
  },
  {
   "cell_type": "markdown",
   "metadata": {},
   "source": [
    "## Section 1: Loading the data and EDA"
   ]
  },
  {
   "cell_type": "markdown",
   "metadata": {},
   "source": [
    "### Part 1.1: Loading the raw data"
   ]
  },
  {
   "cell_type": "code",
   "execution_count": 3,
   "metadata": {},
   "outputs": [],
   "source": [
    "#Load raw_signals in array format\n",
    "raw_signals = np.load('../data/created_data_files/ptb_raw_signals.npz')\n",
    "raw_signals = raw_signals['arr_0']"
   ]
  },
  {
   "cell_type": "code",
   "execution_count": 4,
   "metadata": {},
   "outputs": [
    {
     "data": {
      "text/plain": [
       "array([[[-0.119, -0.055,  0.064, ..., -0.026, -0.039, -0.079],\n",
       "        [-0.116, -0.051,  0.065, ..., -0.031, -0.034, -0.074],\n",
       "        [-0.12 , -0.044,  0.076, ..., -0.028, -0.029, -0.069],\n",
       "        ...,\n",
       "        [ 0.069,  0.   , -0.069, ...,  0.024, -0.041, -0.058],\n",
       "        [ 0.086,  0.004, -0.081, ...,  0.242, -0.046, -0.098],\n",
       "        [ 0.022, -0.031, -0.054, ...,  0.143, -0.035, -0.12 ]]],\n",
       "      dtype=float16)"
      ]
     },
     "execution_count": 4,
     "metadata": {},
     "output_type": "execute_result"
    }
   ],
   "source": [
    "raw_signals[0:1]"
   ]
  },
  {
   "cell_type": "code",
   "execution_count": 5,
   "metadata": {},
   "outputs": [],
   "source": [
    "#Load raw_signals that were converted to dataframe\n",
    "signals_df = pd.read_csv('../data/created_data_files/ptb_signals_df.csv.gz', compression='gzip')"
   ]
  },
  {
   "cell_type": "code",
   "execution_count": 6,
   "metadata": {},
   "outputs": [
    {
     "data": {
      "text/html": [
       "<div>\n",
       "<style scoped>\n",
       "    .dataframe tbody tr th:only-of-type {\n",
       "        vertical-align: middle;\n",
       "    }\n",
       "\n",
       "    .dataframe tbody tr th {\n",
       "        vertical-align: top;\n",
       "    }\n",
       "\n",
       "    .dataframe thead th {\n",
       "        text-align: right;\n",
       "    }\n",
       "</style>\n",
       "<table border=\"1\" class=\"dataframe\">\n",
       "  <thead>\n",
       "    <tr style=\"text-align: right;\">\n",
       "      <th></th>\n",
       "      <th>0</th>\n",
       "      <th>1</th>\n",
       "      <th>2</th>\n",
       "      <th>3</th>\n",
       "      <th>4</th>\n",
       "      <th>5</th>\n",
       "      <th>6</th>\n",
       "      <th>7</th>\n",
       "      <th>8</th>\n",
       "      <th>9</th>\n",
       "      <th>10</th>\n",
       "      <th>11</th>\n",
       "    </tr>\n",
       "  </thead>\n",
       "  <tbody>\n",
       "    <tr>\n",
       "      <th>0</th>\n",
       "      <td>-0.119</td>\n",
       "      <td>-0.055</td>\n",
       "      <td>0.064</td>\n",
       "      <td>0.086</td>\n",
       "      <td>-0.091</td>\n",
       "      <td>0.004</td>\n",
       "      <td>-0.069</td>\n",
       "      <td>-0.031</td>\n",
       "      <td>0.000</td>\n",
       "      <td>-0.026</td>\n",
       "      <td>-0.039</td>\n",
       "      <td>-0.079</td>\n",
       "    </tr>\n",
       "    <tr>\n",
       "      <th>1</th>\n",
       "      <td>-0.116</td>\n",
       "      <td>-0.051</td>\n",
       "      <td>0.065</td>\n",
       "      <td>0.083</td>\n",
       "      <td>-0.090</td>\n",
       "      <td>0.006</td>\n",
       "      <td>-0.064</td>\n",
       "      <td>-0.036</td>\n",
       "      <td>-0.003</td>\n",
       "      <td>-0.031</td>\n",
       "      <td>-0.034</td>\n",
       "      <td>-0.074</td>\n",
       "    </tr>\n",
       "    <tr>\n",
       "      <th>2</th>\n",
       "      <td>-0.120</td>\n",
       "      <td>-0.044</td>\n",
       "      <td>0.076</td>\n",
       "      <td>0.082</td>\n",
       "      <td>-0.098</td>\n",
       "      <td>0.016</td>\n",
       "      <td>-0.058</td>\n",
       "      <td>-0.034</td>\n",
       "      <td>-0.010</td>\n",
       "      <td>-0.028</td>\n",
       "      <td>-0.029</td>\n",
       "      <td>-0.069</td>\n",
       "    </tr>\n",
       "    <tr>\n",
       "      <th>3</th>\n",
       "      <td>-0.117</td>\n",
       "      <td>-0.038</td>\n",
       "      <td>0.080</td>\n",
       "      <td>0.077</td>\n",
       "      <td>-0.098</td>\n",
       "      <td>0.021</td>\n",
       "      <td>-0.050</td>\n",
       "      <td>-0.030</td>\n",
       "      <td>-0.015</td>\n",
       "      <td>-0.023</td>\n",
       "      <td>-0.022</td>\n",
       "      <td>-0.064</td>\n",
       "    </tr>\n",
       "    <tr>\n",
       "      <th>4</th>\n",
       "      <td>-0.103</td>\n",
       "      <td>-0.031</td>\n",
       "      <td>0.072</td>\n",
       "      <td>0.066</td>\n",
       "      <td>-0.087</td>\n",
       "      <td>0.021</td>\n",
       "      <td>-0.045</td>\n",
       "      <td>-0.027</td>\n",
       "      <td>-0.020</td>\n",
       "      <td>-0.019</td>\n",
       "      <td>-0.018</td>\n",
       "      <td>-0.058</td>\n",
       "    </tr>\n",
       "  </tbody>\n",
       "</table>\n",
       "</div>"
      ],
      "text/plain": [
       "       0      1      2      3      4      5      6      7      8      9  \\\n",
       "0 -0.119 -0.055  0.064  0.086 -0.091  0.004 -0.069 -0.031  0.000 -0.026   \n",
       "1 -0.116 -0.051  0.065  0.083 -0.090  0.006 -0.064 -0.036 -0.003 -0.031   \n",
       "2 -0.120 -0.044  0.076  0.082 -0.098  0.016 -0.058 -0.034 -0.010 -0.028   \n",
       "3 -0.117 -0.038  0.080  0.077 -0.098  0.021 -0.050 -0.030 -0.015 -0.023   \n",
       "4 -0.103 -0.031  0.072  0.066 -0.087  0.021 -0.045 -0.027 -0.020 -0.019   \n",
       "\n",
       "      10     11  \n",
       "0 -0.039 -0.079  \n",
       "1 -0.034 -0.074  \n",
       "2 -0.029 -0.069  \n",
       "3 -0.022 -0.064  \n",
       "4 -0.018 -0.058  "
      ]
     },
     "execution_count": 6,
     "metadata": {},
     "output_type": "execute_result"
    }
   ],
   "source": [
    "signals_df.head()"
   ]
  },
  {
   "cell_type": "code",
   "execution_count": 7,
   "metadata": {},
   "outputs": [
    {
     "data": {
      "text/plain": [
       "(21837000, 12)"
      ]
     },
     "execution_count": 7,
     "metadata": {},
     "output_type": "execute_result"
    }
   ],
   "source": [
    "signals_df.shape"
   ]
  },
  {
   "cell_type": "code",
   "execution_count": 8,
   "metadata": {},
   "outputs": [
    {
     "name": "stdout",
     "output_type": "stream",
     "text": [
      "<class 'pandas.core.frame.DataFrame'>\n",
      "RangeIndex: 21837000 entries, 0 to 21836999\n",
      "Data columns (total 12 columns):\n",
      " #   Column  Dtype  \n",
      "---  ------  -----  \n",
      " 0   0       float64\n",
      " 1   1       float64\n",
      " 2   2       float64\n",
      " 3   3       float64\n",
      " 4   4       float64\n",
      " 5   5       float64\n",
      " 6   6       float64\n",
      " 7   7       float64\n",
      " 8   8       float64\n",
      " 9   9       float64\n",
      " 10  10      float64\n",
      " 11  11      float64\n",
      "dtypes: float64(12)\n",
      "memory usage: 2.0 GB\n"
     ]
    }
   ],
   "source": [
    "signals_df.info()"
   ]
  },
  {
   "cell_type": "code",
   "execution_count": 9,
   "metadata": {},
   "outputs": [
    {
     "data": {
      "text/html": [
       "<div>\n",
       "<style scoped>\n",
       "    .dataframe tbody tr th:only-of-type {\n",
       "        vertical-align: middle;\n",
       "    }\n",
       "\n",
       "    .dataframe tbody tr th {\n",
       "        vertical-align: top;\n",
       "    }\n",
       "\n",
       "    .dataframe thead th {\n",
       "        text-align: right;\n",
       "    }\n",
       "</style>\n",
       "<table border=\"1\" class=\"dataframe\">\n",
       "  <thead>\n",
       "    <tr style=\"text-align: right;\">\n",
       "      <th></th>\n",
       "      <th>0</th>\n",
       "      <th>1</th>\n",
       "      <th>2</th>\n",
       "      <th>3</th>\n",
       "      <th>4</th>\n",
       "      <th>5</th>\n",
       "      <th>6</th>\n",
       "      <th>7</th>\n",
       "      <th>8</th>\n",
       "      <th>9</th>\n",
       "      <th>10</th>\n",
       "      <th>11</th>\n",
       "    </tr>\n",
       "  </thead>\n",
       "  <tbody>\n",
       "    <tr>\n",
       "      <th>count</th>\n",
       "      <td>2.183700e+07</td>\n",
       "      <td>2.183700e+07</td>\n",
       "      <td>2.183700e+07</td>\n",
       "      <td>2.183700e+07</td>\n",
       "      <td>2.183700e+07</td>\n",
       "      <td>2.183700e+07</td>\n",
       "      <td>2.183700e+07</td>\n",
       "      <td>2.183700e+07</td>\n",
       "      <td>2.183700e+07</td>\n",
       "      <td>2.183700e+07</td>\n",
       "      <td>2.183700e+07</td>\n",
       "      <td>2.183700e+07</td>\n",
       "    </tr>\n",
       "    <tr>\n",
       "      <th>mean</th>\n",
       "      <td>-1.845856e-03</td>\n",
       "      <td>-1.302771e-03</td>\n",
       "      <td>5.432910e-04</td>\n",
       "      <td>1.555459e-03</td>\n",
       "      <td>-1.143790e-03</td>\n",
       "      <td>-3.564934e-04</td>\n",
       "      <td>1.703134e-04</td>\n",
       "      <td>-9.131268e-04</td>\n",
       "      <td>-1.488353e-03</td>\n",
       "      <td>-1.746866e-03</td>\n",
       "      <td>-7.707096e-04</td>\n",
       "      <td>-2.074064e-03</td>\n",
       "    </tr>\n",
       "    <tr>\n",
       "      <th>std</th>\n",
       "      <td>1.640100e-01</td>\n",
       "      <td>1.647168e-01</td>\n",
       "      <td>1.712896e-01</td>\n",
       "      <td>1.403083e-01</td>\n",
       "      <td>1.460696e-01</td>\n",
       "      <td>1.465611e-01</td>\n",
       "      <td>2.337413e-01</td>\n",
       "      <td>3.376723e-01</td>\n",
       "      <td>3.336281e-01</td>\n",
       "      <td>3.058301e-01</td>\n",
       "      <td>2.731171e-01</td>\n",
       "      <td>2.755435e-01</td>\n",
       "    </tr>\n",
       "    <tr>\n",
       "      <th>min</th>\n",
       "      <td>-7.455000e+00</td>\n",
       "      <td>-5.856000e+00</td>\n",
       "      <td>-4.656000e+00</td>\n",
       "      <td>-3.679000e+00</td>\n",
       "      <td>-7.473000e+00</td>\n",
       "      <td>-5.300000e+00</td>\n",
       "      <td>-1.782500e+01</td>\n",
       "      <td>-1.110200e+01</td>\n",
       "      <td>-1.632000e+01</td>\n",
       "      <td>-1.119800e+01</td>\n",
       "      <td>-1.305500e+01</td>\n",
       "      <td>-2.003200e+01</td>\n",
       "    </tr>\n",
       "    <tr>\n",
       "      <th>25%</th>\n",
       "      <td>-6.300000e-02</td>\n",
       "      <td>-6.800000e-02</td>\n",
       "      <td>-4.000000e-02</td>\n",
       "      <td>-2.600000e-02</td>\n",
       "      <td>-4.800000e-02</td>\n",
       "      <td>-4.800000e-02</td>\n",
       "      <td>-2.400000e-02</td>\n",
       "      <td>-6.500000e-02</td>\n",
       "      <td>-8.700000e-02</td>\n",
       "      <td>-9.500000e-02</td>\n",
       "      <td>-9.000000e-02</td>\n",
       "      <td>-7.900000e-02</td>\n",
       "    </tr>\n",
       "    <tr>\n",
       "      <th>50%</th>\n",
       "      <td>-2.500000e-02</td>\n",
       "      <td>-2.200000e-02</td>\n",
       "      <td>6.000000e-03</td>\n",
       "      <td>2.400000e-02</td>\n",
       "      <td>-1.400000e-02</td>\n",
       "      <td>-6.000000e-03</td>\n",
       "      <td>2.100000e-02</td>\n",
       "      <td>0.000000e+00</td>\n",
       "      <td>-1.900000e-02</td>\n",
       "      <td>-3.300000e-02</td>\n",
       "      <td>-3.700000e-02</td>\n",
       "      <td>-3.200000e-02</td>\n",
       "    </tr>\n",
       "    <tr>\n",
       "      <th>75%</th>\n",
       "      <td>2.100000e-02</td>\n",
       "      <td>4.100000e-02</td>\n",
       "      <td>5.100000e-02</td>\n",
       "      <td>6.100000e-02</td>\n",
       "      <td>2.400000e-02</td>\n",
       "      <td>4.000000e-02</td>\n",
       "      <td>6.500000e-02</td>\n",
       "      <td>8.900000e-02</td>\n",
       "      <td>7.800000e-02</td>\n",
       "      <td>5.000000e-02</td>\n",
       "      <td>3.200000e-02</td>\n",
       "      <td>2.800000e-02</td>\n",
       "    </tr>\n",
       "    <tr>\n",
       "      <th>max</th>\n",
       "      <td>4.398000e+00</td>\n",
       "      <td>5.576000e+00</td>\n",
       "      <td>7.491000e+00</td>\n",
       "      <td>5.920000e+00</td>\n",
       "      <td>4.425000e+00</td>\n",
       "      <td>5.553000e+00</td>\n",
       "      <td>1.054700e+01</td>\n",
       "      <td>1.215700e+01</td>\n",
       "      <td>8.505000e+00</td>\n",
       "      <td>8.696000e+00</td>\n",
       "      <td>1.721200e+01</td>\n",
       "      <td>1.296600e+01</td>\n",
       "    </tr>\n",
       "  </tbody>\n",
       "</table>\n",
       "</div>"
      ],
      "text/plain": [
       "                  0             1             2             3             4  \\\n",
       "count  2.183700e+07  2.183700e+07  2.183700e+07  2.183700e+07  2.183700e+07   \n",
       "mean  -1.845856e-03 -1.302771e-03  5.432910e-04  1.555459e-03 -1.143790e-03   \n",
       "std    1.640100e-01  1.647168e-01  1.712896e-01  1.403083e-01  1.460696e-01   \n",
       "min   -7.455000e+00 -5.856000e+00 -4.656000e+00 -3.679000e+00 -7.473000e+00   \n",
       "25%   -6.300000e-02 -6.800000e-02 -4.000000e-02 -2.600000e-02 -4.800000e-02   \n",
       "50%   -2.500000e-02 -2.200000e-02  6.000000e-03  2.400000e-02 -1.400000e-02   \n",
       "75%    2.100000e-02  4.100000e-02  5.100000e-02  6.100000e-02  2.400000e-02   \n",
       "max    4.398000e+00  5.576000e+00  7.491000e+00  5.920000e+00  4.425000e+00   \n",
       "\n",
       "                  5             6             7             8             9  \\\n",
       "count  2.183700e+07  2.183700e+07  2.183700e+07  2.183700e+07  2.183700e+07   \n",
       "mean  -3.564934e-04  1.703134e-04 -9.131268e-04 -1.488353e-03 -1.746866e-03   \n",
       "std    1.465611e-01  2.337413e-01  3.376723e-01  3.336281e-01  3.058301e-01   \n",
       "min   -5.300000e+00 -1.782500e+01 -1.110200e+01 -1.632000e+01 -1.119800e+01   \n",
       "25%   -4.800000e-02 -2.400000e-02 -6.500000e-02 -8.700000e-02 -9.500000e-02   \n",
       "50%   -6.000000e-03  2.100000e-02  0.000000e+00 -1.900000e-02 -3.300000e-02   \n",
       "75%    4.000000e-02  6.500000e-02  8.900000e-02  7.800000e-02  5.000000e-02   \n",
       "max    5.553000e+00  1.054700e+01  1.215700e+01  8.505000e+00  8.696000e+00   \n",
       "\n",
       "                 10            11  \n",
       "count  2.183700e+07  2.183700e+07  \n",
       "mean  -7.707096e-04 -2.074064e-03  \n",
       "std    2.731171e-01  2.755435e-01  \n",
       "min   -1.305500e+01 -2.003200e+01  \n",
       "25%   -9.000000e-02 -7.900000e-02  \n",
       "50%   -3.700000e-02 -3.200000e-02  \n",
       "75%    3.200000e-02  2.800000e-02  \n",
       "max    1.721200e+01  1.296600e+01  "
      ]
     },
     "execution_count": 9,
     "metadata": {},
     "output_type": "execute_result"
    }
   ],
   "source": [
    "signals_df.describe()"
   ]
  },
  {
   "cell_type": "code",
   "execution_count": 10,
   "metadata": {},
   "outputs": [],
   "source": [
    "#Set path and sampling rate\n",
    "path = '../data/ptb_xl/'\n",
    "sampling_rate=100\n",
    "\n",
    "# load and convert annotation data\n",
    "meta_data_df = pd.read_csv(path+'ptbxl_database.csv', index_col='ecg_id')\n",
    "meta_data_df.scp_codes = meta_data_df.scp_codes.apply(lambda x: ast.literal_eval(x))"
   ]
  },
  {
   "cell_type": "code",
   "execution_count": 11,
   "metadata": {},
   "outputs": [],
   "source": [
    "# Load scp_statements.csv for diagnostic aggregation, i.e. reduce diagnostic classes to 6 superclasses\n",
    "agg_df = pd.read_csv(path+'scp_statements.csv', index_col=0)\n",
    "agg_df = agg_df[agg_df.diagnostic == 1]\n",
    "\n",
    "def aggregate_diagnostic(y_dic):\n",
    "    tmp = []\n",
    "    for key in y_dic.keys():\n",
    "        if key in agg_df.index:\n",
    "            tmp.append(agg_df.loc[key].diagnostic_class)\n",
    "    return list(set(tmp))\n",
    "\n",
    "# Apply diagnostic superclass\n",
    "meta_data_df['diagnostic_superclass'] = meta_data_df.scp_codes.apply(aggregate_diagnostic)"
   ]
  },
  {
   "cell_type": "markdown",
   "metadata": {},
   "source": [
    "Let's check the meta_data_df's diagnostic superclass"
   ]
  },
  {
   "cell_type": "code",
   "execution_count": 12,
   "metadata": {},
   "outputs": [
    {
     "data": {
      "text/plain": [
       "ecg_id\n",
       "1        [NORM]\n",
       "2        [NORM]\n",
       "3        [NORM]\n",
       "4        [NORM]\n",
       "5        [NORM]\n",
       "          ...  \n",
       "21833    [STTC]\n",
       "21834    [NORM]\n",
       "21835    [STTC]\n",
       "21836    [NORM]\n",
       "21837    [NORM]\n",
       "Name: diagnostic_superclass, Length: 21837, dtype: object"
      ]
     },
     "execution_count": 12,
     "metadata": {},
     "output_type": "execute_result"
    }
   ],
   "source": [
    "meta_data_df['diagnostic_superclass']"
   ]
  },
  {
   "cell_type": "markdown",
   "metadata": {},
   "source": [
    "It seems to be a list"
   ]
  },
  {
   "cell_type": "code",
   "execution_count": 13,
   "metadata": {},
   "outputs": [
    {
     "name": "stderr",
     "output_type": "stream",
     "text": [
      "<ipython-input-13-ad8a7d45a2ad>:5: SettingWithCopyWarning: \n",
      "A value is trying to be set on a copy of a slice from a DataFrame\n",
      "\n",
      "See the caveats in the documentation: https://pandas.pydata.org/pandas-docs/stable/user_guide/indexing.html#returning-a-view-versus-a-copy\n",
      "  meta_data_df['diagnostic_superclass'][i] = meta_data_df['diagnostic_superclass'][i][0]\n",
      "<ipython-input-13-ad8a7d45a2ad>:7: SettingWithCopyWarning: \n",
      "A value is trying to be set on a copy of a slice from a DataFrame\n",
      "\n",
      "See the caveats in the documentation: https://pandas.pydata.org/pandas-docs/stable/user_guide/indexing.html#returning-a-view-versus-a-copy\n",
      "  meta_data_df['diagnostic_superclass'][i] = 'NO_DIAG'\n"
     ]
    }
   ],
   "source": [
    "#Convert the list to a string. While running this, I ran into errors. There seems to have been empty strings\n",
    "#With no diagnoses. So convert empty lists to 'NO_DIAG', for no diagnosis\n",
    "for i in range(1,len(meta_data_df['diagnostic_superclass'])+1):\n",
    "    try:\n",
    "        meta_data_df['diagnostic_superclass'][i] = meta_data_df['diagnostic_superclass'][i][0]\n",
    "    except:\n",
    "        meta_data_df['diagnostic_superclass'][i] = 'NO_DIAG'"
   ]
  },
  {
   "cell_type": "code",
   "execution_count": 14,
   "metadata": {},
   "outputs": [
    {
     "data": {
      "text/plain": [
       "ecg_id\n",
       "1        NORM\n",
       "2        NORM\n",
       "3        NORM\n",
       "4        NORM\n",
       "5        NORM\n",
       "         ... \n",
       "21833    STTC\n",
       "21834    NORM\n",
       "21835    STTC\n",
       "21836    NORM\n",
       "21837    NORM\n",
       "Name: diagnostic_superclass, Length: 21837, dtype: object"
      ]
     },
     "execution_count": 14,
     "metadata": {},
     "output_type": "execute_result"
    }
   ],
   "source": [
    "meta_data_df['diagnostic_superclass']"
   ]
  },
  {
   "cell_type": "markdown",
   "metadata": {},
   "source": [
    "How do our raw signals look like?"
   ]
  },
  {
   "cell_type": "code",
   "execution_count": 15,
   "metadata": {},
   "outputs": [
    {
     "data": {
      "text/plain": [
       "(21837, 1000, 12)"
      ]
     },
     "execution_count": 15,
     "metadata": {},
     "output_type": "execute_result"
    }
   ],
   "source": [
    "raw_signals.shape"
   ]
  },
  {
   "cell_type": "markdown",
   "metadata": {},
   "source": [
    "There are 21837 rows of data...\n",
    "\n",
    "...Each of 10 seconds (represented by 1000)...\n",
    "\n",
    "...measuring the 12 leads of the 12-lead ecg (i.e. 12 variables)"
   ]
  },
  {
   "cell_type": "markdown",
   "metadata": {},
   "source": [
    "Let's take a look at the data"
   ]
  },
  {
   "cell_type": "code",
   "execution_count": 16,
   "metadata": {},
   "outputs": [
    {
     "data": {
      "text/plain": [
       "array([ 0.166, -0.007, -0.173, -0.08 ,  0.17 , -0.09 ,  0.069,  0.291,\n",
       "        0.178,  0.106,  0.047, -0.103], dtype=float16)"
      ]
     },
     "execution_count": 16,
     "metadata": {},
     "output_type": "execute_result"
    }
   ],
   "source": [
    "raw_signals[21836][999]"
   ]
  },
  {
   "cell_type": "markdown",
   "metadata": {},
   "source": [
    "raw_signals [21836] [999] refers to ecg number 21836 (the last one), on the 999th time period (10th second). The 12 float64s refers to the values of each lead of the 12-lead ecg."
   ]
  },
  {
   "cell_type": "markdown",
   "metadata": {},
   "source": [
    "Let's take a look at how one of these ecg plots look like"
   ]
  },
  {
   "cell_type": "code",
   "execution_count": 17,
   "metadata": {},
   "outputs": [
    {
     "data": {
      "image/png": "[encoded data removed]",
      "text/plain": [
       "<Figure size 1008x475.2 with 12 Axes>"
      ]
     },
     "metadata": {
      "needs_background": "light"
     },
     "output_type": "display_data"
    }
   ],
   "source": [
    "ecg_plot.plot_12(raw_signals[0].T, sample_rate=100, title='')\n",
    "ecg_plot.show()"
   ]
  },
  {
   "cell_type": "markdown",
   "metadata": {},
   "source": [
    "Saving this plot as a png"
   ]
  },
  {
   "cell_type": "code",
   "execution_count": 18,
   "metadata": {},
   "outputs": [],
   "source": [
    "ecg_plot.save_as_png('example_ecg', '../data/data_images/')"
   ]
  },
  {
   "cell_type": "markdown",
   "metadata": {},
   "source": [
    "### Part 1.2.1: Exploring the meta-data"
   ]
  },
  {
   "cell_type": "markdown",
   "metadata": {},
   "source": [
    "Let's explore the classes and establish a baseline of model accuracy if we just guess the majority class"
   ]
  },
  {
   "cell_type": "code",
   "execution_count": 19,
   "metadata": {},
   "outputs": [
    {
     "data": {
      "text/plain": [
       "NORM       9085\n",
       "STTC       5250\n",
       "CD         3838\n",
       "MI         2721\n",
       "HYP         536\n",
       "NO_DIAG     407\n",
       "Name: diagnostic_superclass, dtype: int64"
      ]
     },
     "execution_count": 19,
     "metadata": {},
     "output_type": "execute_result"
    }
   ],
   "source": [
    "#Doing a count\n",
    "meta_data_df['diagnostic_superclass'].value_counts()"
   ]
  },
  {
   "cell_type": "code",
   "execution_count": 20,
   "metadata": {},
   "outputs": [
    {
     "data": {
      "text/plain": [
       "3639.5"
      ]
     },
     "execution_count": 20,
     "metadata": {},
     "output_type": "execute_result"
    }
   ],
   "source": [
    "#Get the mean of the value counts\n",
    "meta_data_df['diagnostic_superclass'].value_counts().mean()"
   ]
  },
  {
   "cell_type": "code",
   "execution_count": 21,
   "metadata": {},
   "outputs": [
    {
     "data": {
      "text/plain": [
       "NORM       41.603700\n",
       "STTC       24.041764\n",
       "CD         17.575674\n",
       "MI         12.460503\n",
       "HYP         2.454550\n",
       "NO_DIAG     1.863809\n",
       "Name: diagnostic_superclass, dtype: float64"
      ]
     },
     "execution_count": 21,
     "metadata": {},
     "output_type": "execute_result"
    }
   ],
   "source": [
    "#Get the percentage of the value counts\n",
    "meta_data_df['diagnostic_superclass'].value_counts(normalize=True)*100"
   ]
  },
  {
   "cell_type": "code",
   "execution_count": 22,
   "metadata": {},
   "outputs": [
    {
     "data": {
      "image/png": "[encoded data removed]",
      "text/plain": [
       "<Figure size 432x288 with 1 Axes>"
      ]
     },
     "metadata": {
      "needs_background": "light"
     },
     "output_type": "display_data"
    }
   ],
   "source": [
    "#Plotting the counts\n",
    "sns.countplot(x = meta_data_df['diagnostic_superclass']);"
   ]
  },
  {
   "cell_type": "markdown",
   "metadata": {},
   "source": [
    "It seems there is twice as many NORM heartbeats as the second most frequent class, STTC. MI follows closely behind, and there are even fewer NO_DIAG, HYP, and CD.\n",
    "\n",
    "Put another way, there are 3 classes that are higher than the mean and 3 others that are way below the mean. NORM has about 2.5 times as many counts as the mean, while STTC and MI are about 1.4x as much. All this shows there's a severe imbalance in classes.\n",
    "\n",
    "If we were to predict the majority class, NORM, we would be right 43.63% of the time."
   ]
  },
  {
   "cell_type": "code",
   "execution_count": 23,
   "metadata": {},
   "outputs": [
    {
     "data": {
      "text/html": [
       "<div>\n",
       "<style scoped>\n",
       "    .dataframe tbody tr th:only-of-type {\n",
       "        vertical-align: middle;\n",
       "    }\n",
       "\n",
       "    .dataframe tbody tr th {\n",
       "        vertical-align: top;\n",
       "    }\n",
       "\n",
       "    .dataframe thead th {\n",
       "        text-align: right;\n",
       "    }\n",
       "</style>\n",
       "<table border=\"1\" class=\"dataframe\">\n",
       "  <thead>\n",
       "    <tr style=\"text-align: right;\">\n",
       "      <th></th>\n",
       "      <th>patient_id</th>\n",
       "      <th>age</th>\n",
       "      <th>sex</th>\n",
       "      <th>height</th>\n",
       "      <th>weight</th>\n",
       "      <th>nurse</th>\n",
       "      <th>site</th>\n",
       "      <th>validated_by</th>\n",
       "      <th>strat_fold</th>\n",
       "    </tr>\n",
       "  </thead>\n",
       "  <tbody>\n",
       "    <tr>\n",
       "      <th>count</th>\n",
       "      <td>21837.000000</td>\n",
       "      <td>21748.000000</td>\n",
       "      <td>21837.000000</td>\n",
       "      <td>6983.000000</td>\n",
       "      <td>9429.000000</td>\n",
       "      <td>20328.000000</td>\n",
       "      <td>21819.000000</td>\n",
       "      <td>12426.000000</td>\n",
       "      <td>21837.000000</td>\n",
       "    </tr>\n",
       "    <tr>\n",
       "      <th>mean</th>\n",
       "      <td>11255.005953</td>\n",
       "      <td>59.836307</td>\n",
       "      <td>0.478912</td>\n",
       "      <td>166.708292</td>\n",
       "      <td>70.997561</td>\n",
       "      <td>2.292503</td>\n",
       "      <td>1.547229</td>\n",
       "      <td>0.747948</td>\n",
       "      <td>5.505335</td>\n",
       "    </tr>\n",
       "    <tr>\n",
       "      <th>std</th>\n",
       "      <td>6234.132489</td>\n",
       "      <td>16.953125</td>\n",
       "      <td>0.499567</td>\n",
       "      <td>10.864935</td>\n",
       "      <td>15.875146</td>\n",
       "      <td>3.254786</td>\n",
       "      <td>4.169753</td>\n",
       "      <td>1.183269</td>\n",
       "      <td>2.875306</td>\n",
       "    </tr>\n",
       "    <tr>\n",
       "      <th>min</th>\n",
       "      <td>302.000000</td>\n",
       "      <td>2.000000</td>\n",
       "      <td>0.000000</td>\n",
       "      <td>6.000000</td>\n",
       "      <td>5.000000</td>\n",
       "      <td>0.000000</td>\n",
       "      <td>0.000000</td>\n",
       "      <td>0.000000</td>\n",
       "      <td>1.000000</td>\n",
       "    </tr>\n",
       "    <tr>\n",
       "      <th>25%</th>\n",
       "      <td>5982.000000</td>\n",
       "      <td>50.000000</td>\n",
       "      <td>0.000000</td>\n",
       "      <td>160.000000</td>\n",
       "      <td>60.000000</td>\n",
       "      <td>0.000000</td>\n",
       "      <td>0.000000</td>\n",
       "      <td>0.000000</td>\n",
       "      <td>3.000000</td>\n",
       "    </tr>\n",
       "    <tr>\n",
       "      <th>50%</th>\n",
       "      <td>11423.000000</td>\n",
       "      <td>62.000000</td>\n",
       "      <td>0.000000</td>\n",
       "      <td>166.000000</td>\n",
       "      <td>70.000000</td>\n",
       "      <td>1.000000</td>\n",
       "      <td>1.000000</td>\n",
       "      <td>1.000000</td>\n",
       "      <td>6.000000</td>\n",
       "    </tr>\n",
       "    <tr>\n",
       "      <th>75%</th>\n",
       "      <td>16614.000000</td>\n",
       "      <td>72.000000</td>\n",
       "      <td>1.000000</td>\n",
       "      <td>174.000000</td>\n",
       "      <td>80.000000</td>\n",
       "      <td>3.000000</td>\n",
       "      <td>2.000000</td>\n",
       "      <td>1.000000</td>\n",
       "      <td>8.000000</td>\n",
       "    </tr>\n",
       "    <tr>\n",
       "      <th>max</th>\n",
       "      <td>21797.000000</td>\n",
       "      <td>95.000000</td>\n",
       "      <td>1.000000</td>\n",
       "      <td>209.000000</td>\n",
       "      <td>250.000000</td>\n",
       "      <td>11.000000</td>\n",
       "      <td>50.000000</td>\n",
       "      <td>11.000000</td>\n",
       "      <td>10.000000</td>\n",
       "    </tr>\n",
       "  </tbody>\n",
       "</table>\n",
       "</div>"
      ],
      "text/plain": [
       "         patient_id           age           sex       height       weight  \\\n",
       "count  21837.000000  21748.000000  21837.000000  6983.000000  9429.000000   \n",
       "mean   11255.005953     59.836307      0.478912   166.708292    70.997561   \n",
       "std     6234.132489     16.953125      0.499567    10.864935    15.875146   \n",
       "min      302.000000      2.000000      0.000000     6.000000     5.000000   \n",
       "25%     5982.000000     50.000000      0.000000   160.000000    60.000000   \n",
       "50%    11423.000000     62.000000      0.000000   166.000000    70.000000   \n",
       "75%    16614.000000     72.000000      1.000000   174.000000    80.000000   \n",
       "max    21797.000000     95.000000      1.000000   209.000000   250.000000   \n",
       "\n",
       "              nurse          site  validated_by    strat_fold  \n",
       "count  20328.000000  21819.000000  12426.000000  21837.000000  \n",
       "mean       2.292503      1.547229      0.747948      5.505335  \n",
       "std        3.254786      4.169753      1.183269      2.875306  \n",
       "min        0.000000      0.000000      0.000000      1.000000  \n",
       "25%        0.000000      0.000000      0.000000      3.000000  \n",
       "50%        1.000000      1.000000      1.000000      6.000000  \n",
       "75%        3.000000      2.000000      1.000000      8.000000  \n",
       "max       11.000000     50.000000     11.000000     10.000000  "
      ]
     },
     "execution_count": 23,
     "metadata": {},
     "output_type": "execute_result"
    }
   ],
   "source": [
    "meta_data_df.describe()"
   ]
  },
  {
   "cell_type": "code",
   "execution_count": null,
   "metadata": {},
   "outputs": [],
   "source": []
  },
  {
   "cell_type": "code",
   "execution_count": null,
   "metadata": {},
   "outputs": [],
   "source": []
  },
  {
   "cell_type": "code",
   "execution_count": null,
   "metadata": {},
   "outputs": [],
   "source": []
  },
  {
   "cell_type": "code",
   "execution_count": null,
   "metadata": {},
   "outputs": [],
   "source": []
  },
  {
   "cell_type": "markdown",
   "metadata": {},
   "source": [
    "### Part 1.2.2: Exploring ECG data"
   ]
  },
  {
   "cell_type": "markdown",
   "metadata": {},
   "source": [
    "I'm assuming you, the reader, do not have a background in reading an ecg.\n",
    "\n",
    "We can treat the ecg as a landscape with markers on it. The shapes and patterns of these markers give us clues on the status of the patient's heart. These markers are called the **fiducial points**. If an ecg's fiducial points are healthy, we say the ecg is a sign of **normal sinus rhythm**.\n",
    "\n",
    "Below is an example of an ecg's fiducial points that point to normal sinus rhythym."
   ]
  },
  {
   "cell_type": "markdown",
   "metadata": {},
   "source": [
    "![](../images/ecg_fiducial_points.PNG)\n",
    "<p style=\"text-align: center;\">An ecg of one heartbeat. The fiducial points all point to normal sinus rhythm. Taken from \"Time-Domain Analysis of the Electrocardiogram\", 2019, by Ioanna Chouvarda et al.</p>"
   ]
  },
  {
   "cell_type": "markdown",
   "metadata": {},
   "source": [
    "A heartbeat begins when the **Denoisation**..."
   ]
  },
  {
   "cell_type": "markdown",
   "metadata": {},
   "source": [
    "We want to take a look at the following features, taken from \"Biomedical Signal Processing And Artificial Intelligence In Healthcare\", pp. 106-107, 2020, by Walid Zgallai (ed.):\n",
    "\n",
    "- **RR features**: The distance between R peaks and represents the length of time between heartbeats\n",
    "- **Higher-Order statistics (HOS) features**: Where the ecg beat is segmented into _k_ segments and HOS statistics, like kurtosis and skewness, are calculated. This results in a 2 x _k_-dimensional feature for each beat\n",
    "- **Local Binary Patterns (LBP) features**: ECG is one-dimensional time-series data, so a 1-dimensional LBP can be calculated for each data point in the segmented beat.\n",
    "- **Wavelet features**: Using the discrete wavelet transform, we can extract wavelet features from the segmented ecg beats. Wavelet features have both spatial and temporal information from the QRS complex. Here, the wavelet transform is \"applied to each beat signal using the Daubechies 3 family and a specific decomposition level. The approximation band coefficients are then used as wavelet features for the beat\"."
   ]
  },
  {
   "cell_type": "markdown",
   "metadata": {},
   "source": [
    "We have to first pre-process the data. Let's try this out on one patient's full, 10-second ecg data"
   ]
  },
  {
   "cell_type": "code",
   "execution_count": 24,
   "metadata": {},
   "outputs": [
    {
     "data": {
      "image/png": "[encoded data removed]",
      "text/plain": [
       "<Figure size 432x288 with 3 Axes>"
      ]
     },
     "metadata": {
      "needs_background": "light"
     },
     "output_type": "display_data"
    }
   ],
   "source": [
    "ecg_signals, info = nk.ecg_process(signals_df.iloc[0:1000,1], sampling_rate=100)\n",
    "plot = nk.ecg_plot(ecg_signals, sampling_rate=100)"
   ]
  },
  {
   "cell_type": "code",
   "execution_count": 25,
   "metadata": {},
   "outputs": [
    {
     "name": "stderr",
     "output_type": "stream",
     "text": [
      "C:\\Users\\junho\\anaconda3\\lib\\site-packages\\neurokit2\\signal\\signal_psd.py:109: NeuroKitWarning: The duration of recording is too short to support a sufficiently long window for high frequency resolution. Consider using a longer recording or increasing the `min_frequency`\n",
      "  warn(\n"
     ]
    },
    {
     "data": {
      "text/html": [
       "<div>\n",
       "<style scoped>\n",
       "    .dataframe tbody tr th:only-of-type {\n",
       "        vertical-align: middle;\n",
       "    }\n",
       "\n",
       "    .dataframe tbody tr th {\n",
       "        vertical-align: top;\n",
       "    }\n",
       "\n",
       "    .dataframe thead th {\n",
       "        text-align: right;\n",
       "    }\n",
       "</style>\n",
       "<table border=\"1\" class=\"dataframe\">\n",
       "  <thead>\n",
       "    <tr style=\"text-align: right;\">\n",
       "      <th></th>\n",
       "      <th>ECG_Rate_Mean</th>\n",
       "      <th>HRV_RMSSD</th>\n",
       "      <th>HRV_MeanNN</th>\n",
       "      <th>HRV_SDNN</th>\n",
       "      <th>HRV_SDSD</th>\n",
       "      <th>HRV_CVNN</th>\n",
       "      <th>HRV_CVSD</th>\n",
       "      <th>HRV_MedianNN</th>\n",
       "      <th>HRV_MadNN</th>\n",
       "      <th>HRV_MCVNN</th>\n",
       "      <th>...</th>\n",
       "      <th>HRV_C2d</th>\n",
       "      <th>HRV_C2a</th>\n",
       "      <th>HRV_SD2d</th>\n",
       "      <th>HRV_SD2a</th>\n",
       "      <th>HRV_Cd</th>\n",
       "      <th>HRV_Ca</th>\n",
       "      <th>HRV_SDNNd</th>\n",
       "      <th>HRV_SDNNa</th>\n",
       "      <th>HRV_ApEn</th>\n",
       "      <th>HRV_SampEn</th>\n",
       "    </tr>\n",
       "  </thead>\n",
       "  <tbody>\n",
       "    <tr>\n",
       "      <th>0</th>\n",
       "      <td>63.916476</td>\n",
       "      <td>2.645751</td>\n",
       "      <td>94.0</td>\n",
       "      <td>2.0</td>\n",
       "      <td>2.77746</td>\n",
       "      <td>0.021277</td>\n",
       "      <td>0.028146</td>\n",
       "      <td>94.0</td>\n",
       "      <td>2.9652</td>\n",
       "      <td>0.031545</td>\n",
       "      <td>...</td>\n",
       "      <td>0.432646</td>\n",
       "      <td>0.567354</td>\n",
       "      <td>1.261554</td>\n",
       "      <td>1.444664</td>\n",
       "      <td>0.597965</td>\n",
       "      <td>0.402035</td>\n",
       "      <td>1.515176</td>\n",
       "      <td>1.242388</td>\n",
       "      <td>0.133531</td>\n",
       "      <td>-inf</td>\n",
       "    </tr>\n",
       "  </tbody>\n",
       "</table>\n",
       "<p>1 rows × 53 columns</p>\n",
       "</div>"
      ],
      "text/plain": [
       "   ECG_Rate_Mean  HRV_RMSSD  HRV_MeanNN  HRV_SDNN  HRV_SDSD  HRV_CVNN  \\\n",
       "0      63.916476   2.645751        94.0       2.0   2.77746  0.021277   \n",
       "\n",
       "   HRV_CVSD  HRV_MedianNN  HRV_MadNN  HRV_MCVNN  ...   HRV_C2d   HRV_C2a  \\\n",
       "0  0.028146          94.0     2.9652   0.031545  ...  0.432646  0.567354   \n",
       "\n",
       "   HRV_SD2d  HRV_SD2a    HRV_Cd    HRV_Ca  HRV_SDNNd  HRV_SDNNa  HRV_ApEn  \\\n",
       "0  1.261554  1.444664  0.597965  0.402035   1.515176   1.242388  0.133531   \n",
       "\n",
       "   HRV_SampEn  \n",
       "0        -inf  \n",
       "\n",
       "[1 rows x 53 columns]"
      ]
     },
     "execution_count": 25,
     "metadata": {},
     "output_type": "execute_result"
    }
   ],
   "source": [
    "nk.ecg_intervalrelated(ecg_signals)\n"
   ]
  },
  {
   "cell_type": "markdown",
   "metadata": {},
   "source": [
    "Let's try the same process with a different lead from the same patient. We should get similar results since they are from the same ecg. Differences in values should be because of differences in measurement from the electrode placement and cleaning."
   ]
  },
  {
   "cell_type": "code",
   "execution_count": 26,
   "metadata": {},
   "outputs": [
    {
     "data": {
      "image/png": "[encoded data removed]",
      "text/plain": [
       "<Figure size 432x288 with 3 Axes>"
      ]
     },
     "metadata": {
      "needs_background": "light"
     },
     "output_type": "display_data"
    }
   ],
   "source": [
    "ecg_signals_2, info = nk.ecg_process(signals_df.iloc[0:1000,2], sampling_rate=100)\n",
    "plot = nk.ecg_plot(ecg_signals_2, sampling_rate=100)"
   ]
  },
  {
   "cell_type": "code",
   "execution_count": 27,
   "metadata": {},
   "outputs": [
    {
     "name": "stderr",
     "output_type": "stream",
     "text": [
      "C:\\Users\\junho\\anaconda3\\lib\\site-packages\\neurokit2\\signal\\signal_psd.py:109: NeuroKitWarning: The duration of recording is too short to support a sufficiently long window for high frequency resolution. Consider using a longer recording or increasing the `min_frequency`\n",
      "  warn(\n"
     ]
    },
    {
     "data": {
      "text/html": [
       "<div>\n",
       "<style scoped>\n",
       "    .dataframe tbody tr th:only-of-type {\n",
       "        vertical-align: middle;\n",
       "    }\n",
       "\n",
       "    .dataframe tbody tr th {\n",
       "        vertical-align: top;\n",
       "    }\n",
       "\n",
       "    .dataframe thead th {\n",
       "        text-align: right;\n",
       "    }\n",
       "</style>\n",
       "<table border=\"1\" class=\"dataframe\">\n",
       "  <thead>\n",
       "    <tr style=\"text-align: right;\">\n",
       "      <th></th>\n",
       "      <th>ECG_Rate_Mean</th>\n",
       "      <th>HRV_RMSSD</th>\n",
       "      <th>HRV_MeanNN</th>\n",
       "      <th>HRV_SDNN</th>\n",
       "      <th>HRV_SDSD</th>\n",
       "      <th>HRV_CVNN</th>\n",
       "      <th>HRV_CVSD</th>\n",
       "      <th>HRV_MedianNN</th>\n",
       "      <th>HRV_MadNN</th>\n",
       "      <th>HRV_MCVNN</th>\n",
       "      <th>...</th>\n",
       "      <th>HRV_C2d</th>\n",
       "      <th>HRV_C2a</th>\n",
       "      <th>HRV_SD2d</th>\n",
       "      <th>HRV_SD2a</th>\n",
       "      <th>HRV_Cd</th>\n",
       "      <th>HRV_Ca</th>\n",
       "      <th>HRV_SDNNd</th>\n",
       "      <th>HRV_SDNNa</th>\n",
       "      <th>HRV_ApEn</th>\n",
       "      <th>HRV_SampEn</th>\n",
       "    </tr>\n",
       "  </thead>\n",
       "  <tbody>\n",
       "    <tr>\n",
       "      <th>0</th>\n",
       "      <td>64.004652</td>\n",
       "      <td>6.062178</td>\n",
       "      <td>94.0</td>\n",
       "      <td>3.741657</td>\n",
       "      <td>6.45866</td>\n",
       "      <td>0.039805</td>\n",
       "      <td>0.064491</td>\n",
       "      <td>93.0</td>\n",
       "      <td>4.4478</td>\n",
       "      <td>0.047826</td>\n",
       "      <td>...</td>\n",
       "      <td>0.731884</td>\n",
       "      <td>0.268116</td>\n",
       "      <td>2.685942</td>\n",
       "      <td>1.625687</td>\n",
       "      <td>0.518519</td>\n",
       "      <td>0.481481</td>\n",
       "      <td>2.828427</td>\n",
       "      <td>2.725541</td>\n",
       "      <td>0.133531</td>\n",
       "      <td>-inf</td>\n",
       "    </tr>\n",
       "  </tbody>\n",
       "</table>\n",
       "<p>1 rows × 53 columns</p>\n",
       "</div>"
      ],
      "text/plain": [
       "   ECG_Rate_Mean  HRV_RMSSD  HRV_MeanNN  HRV_SDNN  HRV_SDSD  HRV_CVNN  \\\n",
       "0      64.004652   6.062178        94.0  3.741657   6.45866  0.039805   \n",
       "\n",
       "   HRV_CVSD  HRV_MedianNN  HRV_MadNN  HRV_MCVNN  ...   HRV_C2d   HRV_C2a  \\\n",
       "0  0.064491          93.0     4.4478   0.047826  ...  0.731884  0.268116   \n",
       "\n",
       "   HRV_SD2d  HRV_SD2a    HRV_Cd    HRV_Ca  HRV_SDNNd  HRV_SDNNa  HRV_ApEn  \\\n",
       "0  2.685942  1.625687  0.518519  0.481481   2.828427   2.725541  0.133531   \n",
       "\n",
       "   HRV_SampEn  \n",
       "0        -inf  \n",
       "\n",
       "[1 rows x 53 columns]"
      ]
     },
     "execution_count": 27,
     "metadata": {},
     "output_type": "execute_result"
    }
   ],
   "source": [
    "nk.ecg_intervalrelated(ecg_signals_2)\n"
   ]
  },
  {
   "cell_type": "markdown",
   "metadata": {},
   "source": [
    "Let's detect the R_peaks from the first patient. R_peaks are best detected from lead 2, which is column 1 in the dataframe."
   ]
  },
  {
   "cell_type": "code",
   "execution_count": 28,
   "metadata": {},
   "outputs": [],
   "source": [
    "_, r_peaks = nk.ecg_peaks(ecg_signals, sampling_rate=100)"
   ]
  },
  {
   "cell_type": "code",
   "execution_count": 29,
   "metadata": {},
   "outputs": [
    {
     "data": {
      "image/png": "[encoded data removed]",
      "text/plain": [
       "<Figure size 432x288 with 1 Axes>"
      ]
     },
     "metadata": {
      "needs_background": "light"
     },
     "output_type": "display_data"
    }
   ],
   "source": [
    "plot = nk.events_plot(r_peaks['ECG_R_Peaks'], signals_df.iloc[0:1000,1])"
   ]
  },
  {
   "cell_type": "markdown",
   "metadata": {},
   "source": [
    "0. ecg_clean\n",
    "1. ecg_findpeaks\n",
    "2. hrv_time"
   ]
  },
  {
   "cell_type": "markdown",
   "metadata": {},
   "source": [
    "Let's clean the ecgs with nk.ecg_clean in preparation to find peaks and get the heart rate variability"
   ]
  },
  {
   "cell_type": "code",
   "execution_count": 114,
   "metadata": {},
   "outputs": [],
   "source": [
    "#Define a function for nk functions that output a dataframe\n",
    "def nk_func_on_ecg(dataframe, function_name):\n",
    "    \"\"\"\n",
    "    Input: \n",
    "    \n",
    "    1. A dataframe with 21837000 rows and 12 columns, with each row being a time step and each column being a lead\n",
    "    of the ecg reading.\n",
    "    \n",
    "    2. A string with the name of the neurokit function used, without the 'nk' prefix. e.g. use 'ecg_clean' to use\n",
    "    nk.ecg_clean on the dataframe.\n",
    "    \n",
    "    Output: A dataframe with 21837000 rows and 12 columns, with each row being one ecg value at a time step, and a\n",
    "    column being one ecg lead.\n",
    "    \"\"\"\n",
    "    \n",
    "    #Initialise the empty output_df\n",
    "    output_df = pd.DataFrame(data=None)\n",
    "    \n",
    "    for i in range(12):\n",
    "        array = getattr(nk, function_name)(dataframe.iloc[:,i], sampling_rate=100)\n",
    "        \n",
    "        #Turn the above output_array into a dataframe for concatenation\n",
    "        df_for_appending = pd.DataFrame(array)\n",
    "        \n",
    "        #Concatenate df_for_appending to the output_df\n",
    "        output_df = pd.concat([output_df, df_for_appending], axis=1)\n",
    "        \n",
    "    #Rename columns with lead number\n",
    "    output_df.columns = [0,1,2,3,4,5,6,7,8,9,10,11]\n",
    "    \n",
    "    return output_df"
   ]
  },
  {
   "cell_type": "code",
   "execution_count": 125,
   "metadata": {},
   "outputs": [],
   "source": [
    "cleaned_signals_df = nk_func_on_ecg(signals_df, 'ecg_clean')"
   ]
  },
  {
   "cell_type": "code",
   "execution_count": 129,
   "metadata": {},
   "outputs": [],
   "source": [
    "#Define a function for nk functions that output a dataframe of 1s and 0s and a dictionary of samples\n",
    "def nk_df_and_samples(dataframe, function_name):\n",
    "    \"\"\"\n",
    "    Input: \n",
    "    \n",
    "    1. A dataframe with 21837000 rows and 12 columns, with each row being a time step and each column being a lead\n",
    "    of the ecg reading.\n",
    "    \n",
    "    2. A string with the name of the neurokit function used, without the 'nk' prefix. e.g. use 'ecg_delineate' to use\n",
    "    nk.ecg_delineate on the dataframe.\n",
    "    \n",
    "    Output: A dataframe with 21837000 rows and 12 columns, with each row being one ecg value at a time step, and a\n",
    "    column being one ecg lead.\n",
    "    \"\"\"\n",
    "    \n",
    "    #Initialise the empty output_df\n",
    "    output_df = pd.DataFrame(data=None)\n",
    "    \n",
    "    for i in range(12):\n",
    "        df_and_dict = getattr(nk, function_name)(dataframe.iloc[:,i], sampling_rate=100)\n",
    "        \n",
    "        #Turn the above output_array into a dataframe for concatenation\n",
    "        df_for_appending = pd.DataFrame(df_and_dict[0])\n",
    "        \n",
    "        #Concatenate df_for_appending to the output_df\n",
    "        output_df = pd.concat([output_df, df_for_appending], axis=1)\n",
    "        \n",
    "    #Rename columns with lead number\n",
    "    output_df.columns = [f'{function_name}_0,{function_name}_1,{function_name}_2,{function_name}_3,\\\n",
    "                        {function_name}_4,{function_name}_5, {function_name}_6,{function_name}_7,\\\n",
    "                        {function_name}_8,{function_name}_9,{function_name}_10,{function_name}_11']\n",
    "    \n",
    "    return output_df"
   ]
  },
  {
   "cell_type": "code",
   "execution_count": 137,
   "metadata": {},
   "outputs": [],
   "source": [
    "#Define a function for heart rate variability that output a dataframe\n",
    "def hrv(dataframe):\n",
    "    \"\"\"\n",
    "    Input: A dataframe with 21837000 rows and 12 columns, with each row being a time step and each column being a lead\n",
    "    of the ecg reading.\n",
    "    Output: A dataframe with 11 rows and 14 columns, with each row being summary values of heart rate variability, \n",
    "    and a column being a statistic for heart rate variability.\n",
    "    \"\"\"\n",
    "    \n",
    "    #Initialise the empty output_df\n",
    "    output_df = pd.DataFrame(data=None)\n",
    "    \n",
    "    for i in range(12):\n",
    "        channel_summary = nk.hrv_time(dataframe.iloc[:,i], sampling_rate=100)\n",
    "        \n",
    "        #Concatenate the channel heart rate variability to the output_df, concatenated on the row axis\n",
    "        output_df = pd.concat([output_df, channel_summary], axis=0)\n",
    "    \n",
    "    output_df.index = [0,1,2,3,4,5,6,7,8,9,10,11,]\n",
    "    \n",
    "    return output_df"
   ]
  },
  {
   "cell_type": "markdown",
   "metadata": {},
   "source": [
    "Find the R-peaks for the cleaned signals"
   ]
  },
  {
   "cell_type": "code",
   "execution_count": 138,
   "metadata": {},
   "outputs": [],
   "source": [
    "# Doesn't work\n",
    "# nk_df_and_samples(cleaned_signals_df, 'ecg_peaks')"
   ]
  },
  {
   "cell_type": "markdown",
   "metadata": {},
   "source": [
    "Let's find the QRS complex"
   ]
  },
  {
   "cell_type": "markdown",
   "metadata": {},
   "source": [
    "Let's get the heart rate variability information"
   ]
  },
  {
   "cell_type": "code",
   "execution_count": 139,
   "metadata": {},
   "outputs": [
    {
     "data": {
      "text/html": [
       "<div>\n",
       "<style scoped>\n",
       "    .dataframe tbody tr th:only-of-type {\n",
       "        vertical-align: middle;\n",
       "    }\n",
       "\n",
       "    .dataframe tbody tr th {\n",
       "        vertical-align: top;\n",
       "    }\n",
       "\n",
       "    .dataframe thead th {\n",
       "        text-align: right;\n",
       "    }\n",
       "</style>\n",
       "<table border=\"1\" class=\"dataframe\">\n",
       "  <thead>\n",
       "    <tr style=\"text-align: right;\">\n",
       "      <th></th>\n",
       "      <th>HRV_RMSSD</th>\n",
       "      <th>HRV_MeanNN</th>\n",
       "      <th>HRV_SDNN</th>\n",
       "      <th>HRV_SDSD</th>\n",
       "      <th>HRV_CVNN</th>\n",
       "      <th>HRV_CVSD</th>\n",
       "      <th>HRV_MedianNN</th>\n",
       "      <th>HRV_MadNN</th>\n",
       "      <th>HRV_MCVNN</th>\n",
       "      <th>HRV_IQRNN</th>\n",
       "      <th>HRV_pNN50</th>\n",
       "      <th>HRV_pNN20</th>\n",
       "      <th>HRV_TINN</th>\n",
       "      <th>HRV_HTI</th>\n",
       "    </tr>\n",
       "  </thead>\n",
       "  <tbody>\n",
       "    <tr>\n",
       "      <th>0</th>\n",
       "      <td>0.611698</td>\n",
       "      <td>-3.090121e-08</td>\n",
       "      <td>0.680571</td>\n",
       "      <td>0.611698</td>\n",
       "      <td>-2.202410e+07</td>\n",
       "      <td>-1.979528e+07</td>\n",
       "      <td>0.005921</td>\n",
       "      <td>0.127519</td>\n",
       "      <td>21.537962</td>\n",
       "      <td>0.172022</td>\n",
       "      <td>0.000000</td>\n",
       "      <td>0.000027</td>\n",
       "      <td>67.006111</td>\n",
       "      <td>179.854211</td>\n",
       "    </tr>\n",
       "    <tr>\n",
       "      <th>1</th>\n",
       "      <td>0.616956</td>\n",
       "      <td>-3.367274e-08</td>\n",
       "      <td>0.684130</td>\n",
       "      <td>0.616956</td>\n",
       "      <td>-2.031703e+07</td>\n",
       "      <td>-1.832211e+07</td>\n",
       "      <td>0.007266</td>\n",
       "      <td>0.122952</td>\n",
       "      <td>16.921242</td>\n",
       "      <td>0.165860</td>\n",
       "      <td>0.000000</td>\n",
       "      <td>0.000027</td>\n",
       "      <td>48.292606</td>\n",
       "      <td>124.502543</td>\n",
       "    </tr>\n",
       "    <tr>\n",
       "      <th>2</th>\n",
       "      <td>0.510828</td>\n",
       "      <td>-2.666629e-09</td>\n",
       "      <td>0.596276</td>\n",
       "      <td>0.510828</td>\n",
       "      <td>-2.236066e+08</td>\n",
       "      <td>-1.915633e+08</td>\n",
       "      <td>0.000040</td>\n",
       "      <td>0.093923</td>\n",
       "      <td>2344.734538</td>\n",
       "      <td>0.126714</td>\n",
       "      <td>0.000000</td>\n",
       "      <td>0.000009</td>\n",
       "      <td>59.617473</td>\n",
       "      <td>132.732383</td>\n",
       "    </tr>\n",
       "    <tr>\n",
       "      <th>3</th>\n",
       "      <td>0.558773</td>\n",
       "      <td>3.227895e-08</td>\n",
       "      <td>0.613830</td>\n",
       "      <td>0.558773</td>\n",
       "      <td>1.901641e+07</td>\n",
       "      <td>1.731076e+07</td>\n",
       "      <td>-0.007241</td>\n",
       "      <td>0.116332</td>\n",
       "      <td>-16.065951</td>\n",
       "      <td>0.156967</td>\n",
       "      <td>0.000000</td>\n",
       "      <td>0.000005</td>\n",
       "      <td>49.279873</td>\n",
       "      <td>188.146187</td>\n",
       "    </tr>\n",
       "    <tr>\n",
       "      <th>4</th>\n",
       "      <td>0.471564</td>\n",
       "      <td>-1.403423e-08</td>\n",
       "      <td>0.540624</td>\n",
       "      <td>0.471564</td>\n",
       "      <td>-3.852182e+07</td>\n",
       "      <td>-3.360099e+07</td>\n",
       "      <td>0.002119</td>\n",
       "      <td>0.092741</td>\n",
       "      <td>43.771355</td>\n",
       "      <td>0.125092</td>\n",
       "      <td>0.000000</td>\n",
       "      <td>0.000009</td>\n",
       "      <td>60.226112</td>\n",
       "      <td>196.549108</td>\n",
       "    </tr>\n",
       "    <tr>\n",
       "      <th>5</th>\n",
       "      <td>0.476772</td>\n",
       "      <td>-1.815449e-08</td>\n",
       "      <td>0.543939</td>\n",
       "      <td>0.476772</td>\n",
       "      <td>-2.996170e+07</td>\n",
       "      <td>-2.626191e+07</td>\n",
       "      <td>0.003715</td>\n",
       "      <td>0.092879</td>\n",
       "      <td>24.999155</td>\n",
       "      <td>0.125290</td>\n",
       "      <td>0.000000</td>\n",
       "      <td>0.000009</td>\n",
       "      <td>50.545006</td>\n",
       "      <td>189.294374</td>\n",
       "    </tr>\n",
       "    <tr>\n",
       "      <th>6</th>\n",
       "      <td>0.679437</td>\n",
       "      <td>4.126442e-08</td>\n",
       "      <td>0.834104</td>\n",
       "      <td>0.679437</td>\n",
       "      <td>2.021363e+07</td>\n",
       "      <td>1.646545e+07</td>\n",
       "      <td>0.001683</td>\n",
       "      <td>0.081822</td>\n",
       "      <td>48.629784</td>\n",
       "      <td>0.111082</td>\n",
       "      <td>0.000000</td>\n",
       "      <td>0.000110</td>\n",
       "      <td>125.986699</td>\n",
       "      <td>100.002743</td>\n",
       "    </tr>\n",
       "    <tr>\n",
       "      <th>7</th>\n",
       "      <td>1.086779</td>\n",
       "      <td>-3.280476e-09</td>\n",
       "      <td>1.284573</td>\n",
       "      <td>1.086779</td>\n",
       "      <td>-3.915814e+08</td>\n",
       "      <td>-3.312872e+08</td>\n",
       "      <td>0.006296</td>\n",
       "      <td>0.120380</td>\n",
       "      <td>19.120894</td>\n",
       "      <td>0.171492</td>\n",
       "      <td>0.000000</td>\n",
       "      <td>0.000627</td>\n",
       "      <td>86.919535</td>\n",
       "      <td>97.103391</td>\n",
       "    </tr>\n",
       "    <tr>\n",
       "      <th>8</th>\n",
       "      <td>1.188415</td>\n",
       "      <td>-3.594655e-08</td>\n",
       "      <td>1.323079</td>\n",
       "      <td>1.188415</td>\n",
       "      <td>-3.680683e+07</td>\n",
       "      <td>-3.306062e+07</td>\n",
       "      <td>0.008227</td>\n",
       "      <td>0.131415</td>\n",
       "      <td>15.972918</td>\n",
       "      <td>0.187660</td>\n",
       "      <td>0.000000</td>\n",
       "      <td>0.001145</td>\n",
       "      <td>114.535997</td>\n",
       "      <td>100.227650</td>\n",
       "    </tr>\n",
       "    <tr>\n",
       "      <th>9</th>\n",
       "      <td>1.315198</td>\n",
       "      <td>-5.815146e-08</td>\n",
       "      <td>1.374903</td>\n",
       "      <td>1.315198</td>\n",
       "      <td>-2.364348e+07</td>\n",
       "      <td>-2.261677e+07</td>\n",
       "      <td>0.009332</td>\n",
       "      <td>0.115995</td>\n",
       "      <td>12.429773</td>\n",
       "      <td>0.161278</td>\n",
       "      <td>0.000000</td>\n",
       "      <td>0.003961</td>\n",
       "      <td>94.783254</td>\n",
       "      <td>105.953930</td>\n",
       "    </tr>\n",
       "    <tr>\n",
       "      <th>10</th>\n",
       "      <td>1.150680</td>\n",
       "      <td>-6.010425e-08</td>\n",
       "      <td>1.218012</td>\n",
       "      <td>1.150680</td>\n",
       "      <td>-2.026499e+07</td>\n",
       "      <td>-1.914474e+07</td>\n",
       "      <td>0.006925</td>\n",
       "      <td>0.097054</td>\n",
       "      <td>14.015608</td>\n",
       "      <td>0.131561</td>\n",
       "      <td>0.000000</td>\n",
       "      <td>0.001626</td>\n",
       "      <td>81.137908</td>\n",
       "      <td>111.756512</td>\n",
       "    </tr>\n",
       "    <tr>\n",
       "      <th>11</th>\n",
       "      <td>0.843802</td>\n",
       "      <td>-4.553819e-08</td>\n",
       "      <td>0.927357</td>\n",
       "      <td>0.843802</td>\n",
       "      <td>-2.036439e+07</td>\n",
       "      <td>-1.852956e+07</td>\n",
       "      <td>0.003943</td>\n",
       "      <td>0.085233</td>\n",
       "      <td>21.617982</td>\n",
       "      <td>0.114876</td>\n",
       "      <td>0.000018</td>\n",
       "      <td>0.000160</td>\n",
       "      <td>130.819743</td>\n",
       "      <td>111.590895</td>\n",
       "    </tr>\n",
       "  </tbody>\n",
       "</table>\n",
       "</div>"
      ],
      "text/plain": [
       "    HRV_RMSSD    HRV_MeanNN  HRV_SDNN  HRV_SDSD      HRV_CVNN      HRV_CVSD  \\\n",
       "0    0.611698 -3.090121e-08  0.680571  0.611698 -2.202410e+07 -1.979528e+07   \n",
       "1    0.616956 -3.367274e-08  0.684130  0.616956 -2.031703e+07 -1.832211e+07   \n",
       "2    0.510828 -2.666629e-09  0.596276  0.510828 -2.236066e+08 -1.915633e+08   \n",
       "3    0.558773  3.227895e-08  0.613830  0.558773  1.901641e+07  1.731076e+07   \n",
       "4    0.471564 -1.403423e-08  0.540624  0.471564 -3.852182e+07 -3.360099e+07   \n",
       "5    0.476772 -1.815449e-08  0.543939  0.476772 -2.996170e+07 -2.626191e+07   \n",
       "6    0.679437  4.126442e-08  0.834104  0.679437  2.021363e+07  1.646545e+07   \n",
       "7    1.086779 -3.280476e-09  1.284573  1.086779 -3.915814e+08 -3.312872e+08   \n",
       "8    1.188415 -3.594655e-08  1.323079  1.188415 -3.680683e+07 -3.306062e+07   \n",
       "9    1.315198 -5.815146e-08  1.374903  1.315198 -2.364348e+07 -2.261677e+07   \n",
       "10   1.150680 -6.010425e-08  1.218012  1.150680 -2.026499e+07 -1.914474e+07   \n",
       "11   0.843802 -4.553819e-08  0.927357  0.843802 -2.036439e+07 -1.852956e+07   \n",
       "\n",
       "    HRV_MedianNN  HRV_MadNN    HRV_MCVNN  HRV_IQRNN  HRV_pNN50  HRV_pNN20  \\\n",
       "0       0.005921   0.127519    21.537962   0.172022   0.000000   0.000027   \n",
       "1       0.007266   0.122952    16.921242   0.165860   0.000000   0.000027   \n",
       "2       0.000040   0.093923  2344.734538   0.126714   0.000000   0.000009   \n",
       "3      -0.007241   0.116332   -16.065951   0.156967   0.000000   0.000005   \n",
       "4       0.002119   0.092741    43.771355   0.125092   0.000000   0.000009   \n",
       "5       0.003715   0.092879    24.999155   0.125290   0.000000   0.000009   \n",
       "6       0.001683   0.081822    48.629784   0.111082   0.000000   0.000110   \n",
       "7       0.006296   0.120380    19.120894   0.171492   0.000000   0.000627   \n",
       "8       0.008227   0.131415    15.972918   0.187660   0.000000   0.001145   \n",
       "9       0.009332   0.115995    12.429773   0.161278   0.000000   0.003961   \n",
       "10      0.006925   0.097054    14.015608   0.131561   0.000000   0.001626   \n",
       "11      0.003943   0.085233    21.617982   0.114876   0.000018   0.000160   \n",
       "\n",
       "      HRV_TINN     HRV_HTI  \n",
       "0    67.006111  179.854211  \n",
       "1    48.292606  124.502543  \n",
       "2    59.617473  132.732383  \n",
       "3    49.279873  188.146187  \n",
       "4    60.226112  196.549108  \n",
       "5    50.545006  189.294374  \n",
       "6   125.986699  100.002743  \n",
       "7    86.919535   97.103391  \n",
       "8   114.535997  100.227650  \n",
       "9    94.783254  105.953930  \n",
       "10   81.137908  111.756512  \n",
       "11  130.819743  111.590895  "
      ]
     },
     "execution_count": 139,
     "metadata": {},
     "output_type": "execute_result"
    }
   ],
   "source": [
    "hrv(cleaned_signals_df)"
   ]
  },
  {
   "cell_type": "markdown",
   "metadata": {},
   "source": [
    "The meaning of the heart rate variability summary is described below, taken from the [Neurokit2 documentation](https://neurokit2.readthedocs.io/en/latest/functions.html?highlight=heartbeat#module-neurokit2.hrv). The specific function used is 'hrv_time'.\n",
    "\n",
    "1. RMSSD: The square root of the mean of the sum of successive differences between adjacent RR intervals. It is equivalent (although on another scale) to SD1, and therefore it is redundant to report correlations with both (Ciccone, 2017).\n",
    "\n",
    "\n",
    "2. MeanNN: The mean of the RR intervals.\n",
    "\n",
    "\n",
    "3. SDNN: The standard deviation of the RR intervals.\n",
    "\n",
    "\n",
    "4. SDSD: The standard deviation of the successive differences between RR intervals.\n",
    "\n",
    "\n",
    "5. CVNN: The standard deviation of the RR intervals (SDNN) divided by the mean of the RR intervals (MeanNN).\n",
    "\n",
    "\n",
    "6. CVSD: The root mean square of the sum of successive differences (RMSSD) divided by the mean of the RR intervals (MeanNN).\n",
    "\n",
    "\n",
    "7. MedianNN: The median of the absolute values of the successive differences between RR intervals.\n",
    "\n",
    "\n",
    "8. MadNN: The median absolute deviation of the RR intervals.\n",
    "\n",
    "\n",
    "9. HCVNN (Perhaps this is what MCVNN is supposed to be?): The median absolute deviation of the RR intervals (MadNN) divided by the median of the absolute differences of their successive differences (MedianNN).\n",
    "\n",
    "\n",
    "10. IQRNN: The interquartile range (IQR) of the RR intervals.\n",
    "\n",
    "\n",
    "11. pNN50: The proportion of RR intervals greater than 50ms, out of the total number of RR intervals.\n",
    "\n",
    "\n",
    "12. pNN20: The proportion of RR intervals greater than 20ms, out of the total number of RR intervals.\n",
    "\n",
    "\n",
    "13. TINN: A geometrical parameter of the HRV, or more specifically, the baseline width of the RR intervals distribution obtained by triangular interpolation, where the error of least squares determines the triangle. It is an approximation of the RR interval distribution.\n",
    "\n",
    "\n",
    "14. HTI: The HRV triangular index, measuring the total number of RR intervals divded by the height of the RR intervals histogram."
   ]
  },
  {
   "cell_type": "markdown",
   "metadata": {},
   "source": [
    "# ECG Analysis here"
   ]
  },
  {
   "cell_type": "code",
   "execution_count": 144,
   "metadata": {},
   "outputs": [],
   "source": [
    "created_epochs = nk.epochs_create(cleaned_signals_df)"
   ]
  },
  {
   "cell_type": "code",
   "execution_count": 161,
   "metadata": {},
   "outputs": [],
   "source": [
    "epoch_df =nk.epochs_to_df(created_epochs)"
   ]
  },
  {
   "cell_type": "code",
   "execution_count": 165,
   "metadata": {},
   "outputs": [
    {
     "ename": "KeyboardInterrupt",
     "evalue": "",
     "output_type": "error",
     "traceback": [
      "\u001b[1;31m---------------------------------------------------------------------------\u001b[0m",
      "\u001b[1;31mKeyboardInterrupt\u001b[0m                         Traceback (most recent call last)",
      "\u001b[1;32m<ipython-input-165-fd8594357e32>\u001b[0m in \u001b[0;36m<module>\u001b[1;34m\u001b[0m\n\u001b[1;32m----> 1\u001b[1;33m \u001b[0mtest3\u001b[0m \u001b[1;33m=\u001b[0m \u001b[0mnk\u001b[0m\u001b[1;33m.\u001b[0m\u001b[0mecg_eventrelated\u001b[0m\u001b[1;33m(\u001b[0m\u001b[0mtest2\u001b[0m\u001b[1;33m)\u001b[0m\u001b[1;33m\u001b[0m\u001b[1;33m\u001b[0m\u001b[0m\n\u001b[0m",
      "\u001b[1;32m~\\anaconda3\\lib\\site-packages\\neurokit2\\ecg\\ecg_eventrelated.py\u001b[0m in \u001b[0;36mecg_eventrelated\u001b[1;34m(epochs, silent)\u001b[0m\n\u001b[0;32m    106\u001b[0m     \"\"\"\n\u001b[0;32m    107\u001b[0m     \u001b[1;31m# Sanity checks\u001b[0m\u001b[1;33m\u001b[0m\u001b[1;33m\u001b[0m\u001b[1;33m\u001b[0m\u001b[0m\n\u001b[1;32m--> 108\u001b[1;33m     \u001b[0mepochs\u001b[0m \u001b[1;33m=\u001b[0m \u001b[0m_eventrelated_sanitizeinput\u001b[0m\u001b[1;33m(\u001b[0m\u001b[0mepochs\u001b[0m\u001b[1;33m,\u001b[0m \u001b[0mwhat\u001b[0m\u001b[1;33m=\u001b[0m\u001b[1;34m\"ecg\"\u001b[0m\u001b[1;33m,\u001b[0m \u001b[0msilent\u001b[0m\u001b[1;33m=\u001b[0m\u001b[0msilent\u001b[0m\u001b[1;33m)\u001b[0m\u001b[1;33m\u001b[0m\u001b[1;33m\u001b[0m\u001b[0m\n\u001b[0m\u001b[0;32m    109\u001b[0m \u001b[1;33m\u001b[0m\u001b[0m\n\u001b[0;32m    110\u001b[0m     \u001b[1;31m# Extract features and build dataframe\u001b[0m\u001b[1;33m\u001b[0m\u001b[1;33m\u001b[0m\u001b[1;33m\u001b[0m\u001b[0m\n",
      "\u001b[1;32m~\\anaconda3\\lib\\site-packages\\neurokit2\\epochs\\eventrelated_utils.py\u001b[0m in \u001b[0;36m_eventrelated_sanitizeinput\u001b[1;34m(epochs, what, silent)\u001b[0m\n\u001b[0;32m     13\u001b[0m     \u001b[1;31m# Sanity checks\u001b[0m\u001b[1;33m\u001b[0m\u001b[1;33m\u001b[0m\u001b[1;33m\u001b[0m\u001b[0m\n\u001b[0;32m     14\u001b[0m     \u001b[1;32mif\u001b[0m \u001b[0misinstance\u001b[0m\u001b[1;33m(\u001b[0m\u001b[0mepochs\u001b[0m\u001b[1;33m,\u001b[0m \u001b[0mpd\u001b[0m\u001b[1;33m.\u001b[0m\u001b[0mDataFrame\u001b[0m\u001b[1;33m)\u001b[0m\u001b[1;33m:\u001b[0m\u001b[1;33m\u001b[0m\u001b[1;33m\u001b[0m\u001b[0m\n\u001b[1;32m---> 15\u001b[1;33m         \u001b[0mepochs\u001b[0m \u001b[1;33m=\u001b[0m \u001b[0m_df_to_epochs\u001b[0m\u001b[1;33m(\u001b[0m\u001b[0mepochs\u001b[0m\u001b[1;33m)\u001b[0m  \u001b[1;31m# Convert df to dict\u001b[0m\u001b[1;33m\u001b[0m\u001b[1;33m\u001b[0m\u001b[0m\n\u001b[0m\u001b[0;32m     16\u001b[0m \u001b[1;33m\u001b[0m\u001b[0m\n\u001b[0;32m     17\u001b[0m     \u001b[1;32mif\u001b[0m \u001b[1;32mnot\u001b[0m \u001b[0misinstance\u001b[0m\u001b[1;33m(\u001b[0m\u001b[0mepochs\u001b[0m\u001b[1;33m,\u001b[0m \u001b[0mdict\u001b[0m\u001b[1;33m)\u001b[0m\u001b[1;33m:\u001b[0m\u001b[1;33m\u001b[0m\u001b[1;33m\u001b[0m\u001b[0m\n",
      "\u001b[1;32m~\\anaconda3\\lib\\site-packages\\neurokit2\\epochs\\epochs_to_df.py\u001b[0m in \u001b[0;36m_df_to_epochs\u001b[1;34m(data)\u001b[0m\n\u001b[0;32m     56\u001b[0m     \u001b[0mepochs_dict\u001b[0m \u001b[1;33m=\u001b[0m \u001b[1;33m{\u001b[0m\u001b[0mi\u001b[0m\u001b[1;33m:\u001b[0m \u001b[0mpd\u001b[0m\u001b[1;33m.\u001b[0m\u001b[0mDataFrame\u001b[0m \u001b[1;32mfor\u001b[0m \u001b[0mi\u001b[0m \u001b[1;32min\u001b[0m \u001b[0mlabels\u001b[0m\u001b[1;33m}\u001b[0m\u001b[1;33m\u001b[0m\u001b[1;33m\u001b[0m\u001b[0m\n\u001b[0;32m     57\u001b[0m     \u001b[1;32mfor\u001b[0m \u001b[0mkey\u001b[0m \u001b[1;32min\u001b[0m \u001b[0mepochs_dict\u001b[0m\u001b[1;33m:\u001b[0m\u001b[1;33m\u001b[0m\u001b[1;33m\u001b[0m\u001b[0m\n\u001b[1;32m---> 58\u001b[1;33m         \u001b[0mepochs_dict\u001b[0m\u001b[1;33m[\u001b[0m\u001b[0mkey\u001b[0m\u001b[1;33m]\u001b[0m \u001b[1;33m=\u001b[0m \u001b[0mdata\u001b[0m\u001b[1;33m[\u001b[0m\u001b[1;33m:\u001b[0m\u001b[1;33m]\u001b[0m\u001b[1;33m[\u001b[0m\u001b[0mdata\u001b[0m\u001b[1;33m.\u001b[0m\u001b[0mLabel\u001b[0m \u001b[1;33m==\u001b[0m \u001b[0mkey\u001b[0m\u001b[1;33m]\u001b[0m\u001b[1;33m\u001b[0m\u001b[1;33m\u001b[0m\u001b[0m\n\u001b[0m\u001b[0;32m     59\u001b[0m         \u001b[0mepochs_dict\u001b[0m\u001b[1;33m[\u001b[0m\u001b[0mkey\u001b[0m\u001b[1;33m]\u001b[0m\u001b[1;33m.\u001b[0m\u001b[0mindex\u001b[0m \u001b[1;33m=\u001b[0m \u001b[0mnp\u001b[0m\u001b[1;33m.\u001b[0m\u001b[0marray\u001b[0m\u001b[1;33m(\u001b[0m\u001b[0mepochs_dict\u001b[0m\u001b[1;33m[\u001b[0m\u001b[0mkey\u001b[0m\u001b[1;33m]\u001b[0m\u001b[1;33m[\u001b[0m\u001b[1;34m\"Time\"\u001b[0m\u001b[1;33m]\u001b[0m\u001b[1;33m)\u001b[0m\u001b[1;33m\u001b[0m\u001b[1;33m\u001b[0m\u001b[0m\n\u001b[0;32m     60\u001b[0m         \u001b[0mepochs_dict\u001b[0m\u001b[1;33m[\u001b[0m\u001b[0mkey\u001b[0m\u001b[1;33m]\u001b[0m \u001b[1;33m=\u001b[0m \u001b[0mepochs_dict\u001b[0m\u001b[1;33m[\u001b[0m\u001b[0mkey\u001b[0m\u001b[1;33m]\u001b[0m\u001b[1;33m.\u001b[0m\u001b[0mdrop\u001b[0m\u001b[1;33m(\u001b[0m\u001b[1;33m[\u001b[0m\u001b[1;34m\"Time\"\u001b[0m\u001b[1;33m]\u001b[0m\u001b[1;33m,\u001b[0m \u001b[0maxis\u001b[0m\u001b[1;33m=\u001b[0m\u001b[1;36m1\u001b[0m\u001b[1;33m)\u001b[0m\u001b[1;33m\u001b[0m\u001b[1;33m\u001b[0m\u001b[0m\n",
      "\u001b[1;32m~\\anaconda3\\lib\\site-packages\\pandas\\core\\ops\\common.py\u001b[0m in \u001b[0;36mnew_method\u001b[1;34m(self, other)\u001b[0m\n\u001b[0;32m     63\u001b[0m         \u001b[0mother\u001b[0m \u001b[1;33m=\u001b[0m \u001b[0mitem_from_zerodim\u001b[0m\u001b[1;33m(\u001b[0m\u001b[0mother\u001b[0m\u001b[1;33m)\u001b[0m\u001b[1;33m\u001b[0m\u001b[1;33m\u001b[0m\u001b[0m\n\u001b[0;32m     64\u001b[0m \u001b[1;33m\u001b[0m\u001b[0m\n\u001b[1;32m---> 65\u001b[1;33m         \u001b[1;32mreturn\u001b[0m \u001b[0mmethod\u001b[0m\u001b[1;33m(\u001b[0m\u001b[0mself\u001b[0m\u001b[1;33m,\u001b[0m \u001b[0mother\u001b[0m\u001b[1;33m)\u001b[0m\u001b[1;33m\u001b[0m\u001b[1;33m\u001b[0m\u001b[0m\n\u001b[0m\u001b[0;32m     66\u001b[0m \u001b[1;33m\u001b[0m\u001b[0m\n\u001b[0;32m     67\u001b[0m     \u001b[1;32mreturn\u001b[0m \u001b[0mnew_method\u001b[0m\u001b[1;33m\u001b[0m\u001b[1;33m\u001b[0m\u001b[0m\n",
      "\u001b[1;32m~\\anaconda3\\lib\\site-packages\\pandas\\core\\arraylike.py\u001b[0m in \u001b[0;36m__eq__\u001b[1;34m(self, other)\u001b[0m\n\u001b[0;32m     27\u001b[0m     \u001b[1;33m@\u001b[0m\u001b[0munpack_zerodim_and_defer\u001b[0m\u001b[1;33m(\u001b[0m\u001b[1;34m\"__eq__\"\u001b[0m\u001b[1;33m)\u001b[0m\u001b[1;33m\u001b[0m\u001b[1;33m\u001b[0m\u001b[0m\n\u001b[0;32m     28\u001b[0m     \u001b[1;32mdef\u001b[0m \u001b[0m__eq__\u001b[0m\u001b[1;33m(\u001b[0m\u001b[0mself\u001b[0m\u001b[1;33m,\u001b[0m \u001b[0mother\u001b[0m\u001b[1;33m)\u001b[0m\u001b[1;33m:\u001b[0m\u001b[1;33m\u001b[0m\u001b[1;33m\u001b[0m\u001b[0m\n\u001b[1;32m---> 29\u001b[1;33m         \u001b[1;32mreturn\u001b[0m \u001b[0mself\u001b[0m\u001b[1;33m.\u001b[0m\u001b[0m_cmp_method\u001b[0m\u001b[1;33m(\u001b[0m\u001b[0mother\u001b[0m\u001b[1;33m,\u001b[0m \u001b[0moperator\u001b[0m\u001b[1;33m.\u001b[0m\u001b[0meq\u001b[0m\u001b[1;33m)\u001b[0m\u001b[1;33m\u001b[0m\u001b[1;33m\u001b[0m\u001b[0m\n\u001b[0m\u001b[0;32m     30\u001b[0m \u001b[1;33m\u001b[0m\u001b[0m\n\u001b[0;32m     31\u001b[0m     \u001b[1;33m@\u001b[0m\u001b[0munpack_zerodim_and_defer\u001b[0m\u001b[1;33m(\u001b[0m\u001b[1;34m\"__ne__\"\u001b[0m\u001b[1;33m)\u001b[0m\u001b[1;33m\u001b[0m\u001b[1;33m\u001b[0m\u001b[0m\n",
      "\u001b[1;32m~\\anaconda3\\lib\\site-packages\\pandas\\core\\series.py\u001b[0m in \u001b[0;36m_cmp_method\u001b[1;34m(self, other, op)\u001b[0m\n\u001b[0;32m   4946\u001b[0m         \u001b[0mrvalues\u001b[0m \u001b[1;33m=\u001b[0m \u001b[0mextract_array\u001b[0m\u001b[1;33m(\u001b[0m\u001b[0mother\u001b[0m\u001b[1;33m,\u001b[0m \u001b[0mextract_numpy\u001b[0m\u001b[1;33m=\u001b[0m\u001b[1;32mTrue\u001b[0m\u001b[1;33m)\u001b[0m\u001b[1;33m\u001b[0m\u001b[1;33m\u001b[0m\u001b[0m\n\u001b[0;32m   4947\u001b[0m \u001b[1;33m\u001b[0m\u001b[0m\n\u001b[1;32m-> 4948\u001b[1;33m         \u001b[0mres_values\u001b[0m \u001b[1;33m=\u001b[0m \u001b[0mops\u001b[0m\u001b[1;33m.\u001b[0m\u001b[0mcomparison_op\u001b[0m\u001b[1;33m(\u001b[0m\u001b[0mlvalues\u001b[0m\u001b[1;33m,\u001b[0m \u001b[0mrvalues\u001b[0m\u001b[1;33m,\u001b[0m \u001b[0mop\u001b[0m\u001b[1;33m)\u001b[0m\u001b[1;33m\u001b[0m\u001b[1;33m\u001b[0m\u001b[0m\n\u001b[0m\u001b[0;32m   4949\u001b[0m \u001b[1;33m\u001b[0m\u001b[0m\n\u001b[0;32m   4950\u001b[0m         \u001b[1;32mreturn\u001b[0m \u001b[0mself\u001b[0m\u001b[1;33m.\u001b[0m\u001b[0m_construct_result\u001b[0m\u001b[1;33m(\u001b[0m\u001b[0mres_values\u001b[0m\u001b[1;33m,\u001b[0m \u001b[0mname\u001b[0m\u001b[1;33m=\u001b[0m\u001b[0mres_name\u001b[0m\u001b[1;33m)\u001b[0m\u001b[1;33m\u001b[0m\u001b[1;33m\u001b[0m\u001b[0m\n",
      "\u001b[1;32m~\\anaconda3\\lib\\site-packages\\pandas\\core\\ops\\array_ops.py\u001b[0m in \u001b[0;36mcomparison_op\u001b[1;34m(left, right, op)\u001b[0m\n\u001b[0;32m    241\u001b[0m \u001b[1;33m\u001b[0m\u001b[0m\n\u001b[0;32m    242\u001b[0m     \u001b[1;32melif\u001b[0m \u001b[0mis_object_dtype\u001b[0m\u001b[1;33m(\u001b[0m\u001b[0mlvalues\u001b[0m\u001b[1;33m.\u001b[0m\u001b[0mdtype\u001b[0m\u001b[1;33m)\u001b[0m\u001b[1;33m:\u001b[0m\u001b[1;33m\u001b[0m\u001b[1;33m\u001b[0m\u001b[0m\n\u001b[1;32m--> 243\u001b[1;33m         \u001b[0mres_values\u001b[0m \u001b[1;33m=\u001b[0m \u001b[0mcomp_method_OBJECT_ARRAY\u001b[0m\u001b[1;33m(\u001b[0m\u001b[0mop\u001b[0m\u001b[1;33m,\u001b[0m \u001b[0mlvalues\u001b[0m\u001b[1;33m,\u001b[0m \u001b[0mrvalues\u001b[0m\u001b[1;33m)\u001b[0m\u001b[1;33m\u001b[0m\u001b[1;33m\u001b[0m\u001b[0m\n\u001b[0m\u001b[0;32m    244\u001b[0m \u001b[1;33m\u001b[0m\u001b[0m\n\u001b[0;32m    245\u001b[0m     \u001b[1;32melse\u001b[0m\u001b[1;33m:\u001b[0m\u001b[1;33m\u001b[0m\u001b[1;33m\u001b[0m\u001b[0m\n",
      "\u001b[1;32m~\\anaconda3\\lib\\site-packages\\pandas\\core\\ops\\array_ops.py\u001b[0m in \u001b[0;36mcomp_method_OBJECT_ARRAY\u001b[1;34m(op, x, y)\u001b[0m\n\u001b[0;32m     54\u001b[0m     \u001b[1;32melse\u001b[0m\u001b[1;33m:\u001b[0m\u001b[1;33m\u001b[0m\u001b[1;33m\u001b[0m\u001b[0m\n\u001b[0;32m     55\u001b[0m         \u001b[0mresult\u001b[0m \u001b[1;33m=\u001b[0m \u001b[0mlibops\u001b[0m\u001b[1;33m.\u001b[0m\u001b[0mscalar_compare\u001b[0m\u001b[1;33m(\u001b[0m\u001b[0mx\u001b[0m\u001b[1;33m.\u001b[0m\u001b[0mravel\u001b[0m\u001b[1;33m(\u001b[0m\u001b[1;33m)\u001b[0m\u001b[1;33m,\u001b[0m \u001b[0my\u001b[0m\u001b[1;33m,\u001b[0m \u001b[0mop\u001b[0m\u001b[1;33m)\u001b[0m\u001b[1;33m\u001b[0m\u001b[1;33m\u001b[0m\u001b[0m\n\u001b[1;32m---> 56\u001b[1;33m     \u001b[1;32mreturn\u001b[0m \u001b[0mresult\u001b[0m\u001b[1;33m.\u001b[0m\u001b[0mreshape\u001b[0m\u001b[1;33m(\u001b[0m\u001b[0mx\u001b[0m\u001b[1;33m.\u001b[0m\u001b[0mshape\u001b[0m\u001b[1;33m)\u001b[0m\u001b[1;33m\u001b[0m\u001b[1;33m\u001b[0m\u001b[0m\n\u001b[0m\u001b[0;32m     57\u001b[0m \u001b[1;33m\u001b[0m\u001b[0m\n\u001b[0;32m     58\u001b[0m \u001b[1;33m\u001b[0m\u001b[0m\n",
      "\u001b[1;31mKeyboardInterrupt\u001b[0m: "
     ]
    }
   ],
   "source": [
    "analyzed_epochs = nk.ecg_eventrelated(epoch_df)"
   ]
  }
 ],
 "metadata": {
  "kernelspec": {
   "display_name": "Python 3",
   "language": "python",
   "name": "python3"
  },
  "language_info": {
   "codemirror_mode": {
    "name": "ipython",
    "version": 3
   },
   "file_extension": ".py",
   "mimetype": "text/x-python",
   "name": "python",
   "nbconvert_exporter": "python",
   "pygments_lexer": "ipython3",
   "version": "3.8.5"
  }
 },
 "nbformat": 4,
 "nbformat_minor": 4
}

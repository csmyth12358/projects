{
 "cells": [
  {
   "cell_type": "code",
   "execution_count": 1,
   "metadata": {},
   "outputs": [
    {
     "name": "stderr",
     "output_type": "stream",
     "text": [
      "C:\\Users\\junho\\anaconda3\\lib\\site-packages\\numpy\\_distributor_init.py:30: UserWarning: loaded more than 1 DLL from .libs:\n",
      "C:\\Users\\junho\\anaconda3\\lib\\site-packages\\numpy\\.libs\\libopenblas.PYQHXLVVQ7VESDPUVUADXEVJOBGHJPAY.gfortran-win_amd64.dll\n",
      "C:\\Users\\junho\\anaconda3\\lib\\site-packages\\numpy\\.libs\\libopenblas.WCDJNK7YVMPZQ2ME2ZZHJJRJ3JIKNDB7.gfortran-win_amd64.dll\n",
      "  warnings.warn(\"loaded more than 1 DLL from .libs:\"\n"
     ]
    }
   ],
   "source": [
    "import numpy as np\n",
    "import scipy as sp\n",
    "import pandas as pd\n",
    "import matplotlib.pyplot as plt\n",
    "import seaborn as sns\n",
    "\n",
    "import os\n",
    "\n",
    "import tensorflow as tf\n",
    "#These 2 lines are required in order to use GPU for neural networks\n",
    "physical_devices = tf.config.experimental.list_physical_devices('GPU')\n",
    "tf.config.experimental.set_memory_growth(physical_devices[0], True)\n",
    "\n",
    "from tensorflow.keras.models import Sequential\n",
    "from tensorflow.keras.layers import Dense\n",
    "from tensorflow.keras.utils import to_categorical\n",
    "from tensorflow.keras.layers import Flatten, Conv1D, Conv2D, Conv3D\n",
    "from tensorflow.python.client import device_lib"
   ]
  },
  {
   "cell_type": "markdown",
   "metadata": {},
   "source": [
    "Importing raw_signals, combined_features_df, and meta_data_df"
   ]
  },
  {
   "cell_type": "code",
   "execution_count": 2,
   "metadata": {},
   "outputs": [],
   "source": [
    "#Load raw_signals in array format\n",
    "raw_signals = np.load('../data/created_data_files/ptb_raw_signals.npz')\n",
    "raw_signals = raw_signals['arr_0']"
   ]
  },
  {
   "cell_type": "code",
   "execution_count": 3,
   "metadata": {},
   "outputs": [
    {
     "data": {
      "text/plain": [
       "(21837, 1000, 12)"
      ]
     },
     "execution_count": 3,
     "metadata": {},
     "output_type": "execute_result"
    }
   ],
   "source": [
    "raw_signals.shape"
   ]
  },
  {
   "cell_type": "code",
   "execution_count": 4,
   "metadata": {},
   "outputs": [],
   "source": [
    "created_features_df = pd.read_csv('../data/created_data_files/combined_features')"
   ]
  },
  {
   "cell_type": "code",
   "execution_count": 5,
   "metadata": {},
   "outputs": [],
   "source": [
    "meta_data_df = pd.read_csv('../data/created_data_files/meta_data_df')"
   ]
  },
  {
   "cell_type": "code",
   "execution_count": 6,
   "metadata": {},
   "outputs": [],
   "source": [
    "# Split data into train and test\n",
    "test_fold = 10\n",
    "\n",
    "# Train\n",
    "X_train = raw_signals[np.where(meta_data_df.strat_fold != test_fold)]\n",
    "y_train = meta_data_df[(meta_data_df.strat_fold != test_fold)].iloc[:,-5:]\n",
    "\n",
    "# Test\n",
    "X_test = raw_signals[np.where(meta_data_df.strat_fold == test_fold)]\n",
    "y_test = meta_data_df[meta_data_df.strat_fold == test_fold].iloc[:,-5:]"
   ]
  },
  {
   "cell_type": "markdown",
   "metadata": {},
   "source": [
    "We need to reshape X_train and X_test so that they can be used as input into the mtex-cnn architecture"
   ]
  },
  {
   "cell_type": "code",
   "execution_count": 7,
   "metadata": {},
   "outputs": [],
   "source": [
    "X_train = X_train.reshape(X_train.shape[0], X_train.shape[1], X_train.shape[2], 1)"
   ]
  },
  {
   "cell_type": "code",
   "execution_count": 8,
   "metadata": {},
   "outputs": [],
   "source": [
    "X_test = X_test.reshape(X_test.shape[0], X_test.shape[1], X_test.shape[2], 1)"
   ]
  },
  {
   "cell_type": "markdown",
   "metadata": {},
   "source": [
    "Let's build a first pass fully-connected neural network just to see what would happen. Let's give it 64 outputs in the first layer, 32 in the second, before flattening the data to fit the results, and an output layer of 5 categories."
   ]
  },
  {
   "cell_type": "code",
   "execution_count": 9,
   "metadata": {},
   "outputs": [],
   "source": [
    "# #Initial model for testing\n",
    "# model = Sequential()\n",
    "\n",
    "# model.add(Dense(64, activation = 'relu', input_shape=(1000,12)))\n",
    "# model.add(Dense(32, activation='relu'))\n",
    "# model.add(Flatten())\n",
    "# model.add(Dense(5, activation= 'softmax'))\n",
    "\n",
    "# model.compile(loss = 'categorical_crossentropy',\n",
    "#              optimizer='adam',\n",
    "#              metrics=['accuracy'])\n",
    "\n",
    "# model.summary()"
   ]
  },
  {
   "cell_type": "code",
   "execution_count": 10,
   "metadata": {},
   "outputs": [],
   "source": [
    "# #Initial model fitting\n",
    "# model.fit(X_train, y_train, validation_data=(X_test, y_test), epochs=10, batch_size=512)"
   ]
  },
  {
   "cell_type": "markdown",
   "metadata": {},
   "source": [
    "The model ends with an accuracy of around 0.2-0.25. If the model were given a few more epochs, we would probably end up with an accuracy of around 4.3-4.5.\n",
    "\n",
    "This result is probably because of flattening the data"
   ]
  },
  {
   "cell_type": "markdown",
   "metadata": {},
   "source": [
    "Set up an MTEX-CNN."
   ]
  },
  {
   "cell_type": "code",
   "execution_count": 11,
   "metadata": {},
   "outputs": [],
   "source": [
    "k = raw_signals.shape[1]\n",
    "n = raw_signals.shape[0]"
   ]
  },
  {
   "cell_type": "code",
   "execution_count": 12,
   "metadata": {},
   "outputs": [
    {
     "data": {
      "text/plain": [
       "(21837, 1000, 12)"
      ]
     },
     "execution_count": 12,
     "metadata": {},
     "output_type": "execute_result"
    }
   ],
   "source": [
    "raw_signals.shape"
   ]
  },
  {
   "cell_type": "code",
   "execution_count": 13,
   "metadata": {},
   "outputs": [],
   "source": [
    "raw_signals = raw_signals.reshape(raw_signals.shape[0], raw_signals.shape[1], raw_signals.shape[2], 1)"
   ]
  },
  {
   "cell_type": "code",
   "execution_count": 14,
   "metadata": {},
   "outputs": [
    {
     "data": {
      "text/plain": [
       "array([[ 0.022],\n",
       "       [-0.031],\n",
       "       [-0.054],\n",
       "       [ 0.005],\n",
       "       [ 0.038],\n",
       "       [-0.042],\n",
       "       [-0.001],\n",
       "       [ 0.107],\n",
       "       [-0.149],\n",
       "       [ 0.143],\n",
       "       [-0.035],\n",
       "       [-0.12 ]])"
      ]
     },
     "execution_count": 14,
     "metadata": {},
     "output_type": "execute_result"
    }
   ],
   "source": [
    "raw_signals[0][999]"
   ]
  },
  {
   "cell_type": "code",
   "execution_count": 15,
   "metadata": {},
   "outputs": [
    {
     "name": "stdout",
     "output_type": "stream",
     "text": [
      "1000\n"
     ]
    }
   ],
   "source": [
    "print(k)"
   ]
  },
  {
   "cell_type": "code",
   "execution_count": 23,
   "metadata": {},
   "outputs": [],
   "source": [
    "mtex_cnn = Sequential()\n",
    "\n",
    "'''\n",
    "The first part of the model consists of a series of 2d Convolutional layers with 'half padding', which seems to be\n",
    "the same as 'same' padding in keras. Kernel size should be the column size, while stride is explicitly defined\n",
    "as 2x1\n",
    "'''\n",
    "mtex_cnn.add(Conv2D(12, activation='relu', kernel_size=(500,1), strides = (2,1), \n",
    "                    input_shape = (1000,12,1), padding='same'))\n",
    "mtex_cnn.add(Conv2D(12, activation='relu', kernel_size=(500,1), strides = (2,1), padding='same'))\n",
    "\n",
    "'''\n",
    "Add the 1x1 convolutional layer that is at the end of the convolutional 2d layers\n",
    "'''\n",
    "mtex_cnn.add(Conv2D(12, activation='relu', kernel_size=(1,1)))\n",
    "\n",
    "\n",
    "\"\"\"\n",
    "The third part of the mtex-cnn architecture is a series of stacked 1D covolutional layers followed by 2 dense layers,\n",
    "the second of which is the output layer of the network\n",
    "\"\"\"\n",
    "mtex_cnn.add(Conv1D(12, activation='relu', kernel_size=1, padding='same'))\n",
    "\n",
    "\"\"\"\n",
    "Flatten the output of the Conv1D filters\n",
    "\"\"\"\n",
    "mtex_cnn.add(Flatten())\n",
    "\n",
    "\"\"\"\n",
    "The final aspect of the model is 2 dense layers that takes the flattened 1D vector as input and is then connected to\n",
    "an output softmax activated dense layer that assigns the probabilities of belonging to different classes\n",
    "\"\"\"\n",
    "mtex_cnn.add(Dense(12, activation = 'relu'))\n",
    "mtex_cnn.add(Dense(5, activation = 'softmax'))"
   ]
  },
  {
   "cell_type": "code",
   "execution_count": 24,
   "metadata": {},
   "outputs": [
    {
     "name": "stdout",
     "output_type": "stream",
     "text": [
      "Model: \"sequential_1\"\n",
      "_________________________________________________________________\n",
      "Layer (type)                 Output Shape              Param #   \n",
      "=================================================================\n",
      "conv2d_3 (Conv2D)            (None, 500, 12, 12)       6012      \n",
      "_________________________________________________________________\n",
      "conv2d_4 (Conv2D)            (None, 250, 12, 12)       72012     \n",
      "_________________________________________________________________\n",
      "conv2d_5 (Conv2D)            (None, 250, 12, 12)       156       \n",
      "_________________________________________________________________\n",
      "conv1d_1 (Conv1D)            (None, 250, 12, 12)       156       \n",
      "_________________________________________________________________\n",
      "flatten_1 (Flatten)          (None, 36000)             0         \n",
      "_________________________________________________________________\n",
      "dense_2 (Dense)              (None, 12)                432012    \n",
      "_________________________________________________________________\n",
      "dense_3 (Dense)              (None, 5)                 65        \n",
      "=================================================================\n",
      "Total params: 510,413\n",
      "Trainable params: 510,413\n",
      "Non-trainable params: 0\n",
      "_________________________________________________________________\n"
     ]
    }
   ],
   "source": [
    "mtex_cnn.summary()"
   ]
  },
  {
   "cell_type": "code",
   "execution_count": 25,
   "metadata": {},
   "outputs": [],
   "source": [
    "mtex_cnn.compile(loss='categorical_crossentropy', optimizer='adam', metrics=['acc'])"
   ]
  },
  {
   "cell_type": "markdown",
   "metadata": {},
   "source": [
    "Check if Keras is running on GPU"
   ]
  },
  {
   "cell_type": "code",
   "execution_count": 26,
   "metadata": {},
   "outputs": [
    {
     "name": "stdout",
     "output_type": "stream",
     "text": [
      "Num of GPUs available:  13\n"
     ]
    }
   ],
   "source": [
    "print(\"Num of GPUs available: \", len(tf.test.gpu_device_name()))"
   ]
  },
  {
   "cell_type": "code",
   "execution_count": 29,
   "metadata": {},
   "outputs": [
    {
     "name": "stdout",
     "output_type": "stream",
     "text": [
      "Epoch 1/5\n",
      "39/39 [==============================] - 103s 1s/step - loss: 95866.4922 - acc: 0.2882\n",
      "Epoch 2/5\n",
      "39/39 [==============================] - 40s 1s/step - loss: 293707.1562 - acc: 0.2909\n",
      "Epoch 3/5\n",
      "39/39 [==============================] - 40s 1s/step - loss: 1017831.5625 - acc: 0.2897\n",
      "Epoch 4/5\n",
      "39/39 [==============================] - 40s 1s/step - loss: 2666671.2500 - acc: 0.3016\n",
      "Epoch 5/5\n",
      "39/39 [==============================] - 167s 4s/step - loss: 3638750.5000 - acc: 0.2970\n"
     ]
    }
   ],
   "source": [
    "with tf.device('/gpu:0'):\n",
    "    mtex_cnn.fit(X_train, y_train, epochs=5, batch_size=512)"
   ]
  },
  {
   "cell_type": "markdown",
   "metadata": {},
   "source": [
    "## References\n",
    "\n",
    "MTEX-CNN: Multivariate Time series EXplanations for Predictions with Convolutional Neural Networks"
   ]
  }
 ],
 "metadata": {
  "kernelspec": {
   "display_name": "Python 3",
   "language": "python",
   "name": "python3"
  },
  "language_info": {
   "codemirror_mode": {
    "name": "ipython",
    "version": 3
   },
   "file_extension": ".py",
   "mimetype": "text/x-python",
   "name": "python",
   "nbconvert_exporter": "python",
   "pygments_lexer": "ipython3",
   "version": "3.8.5"
  }
 },
 "nbformat": 4,
 "nbformat_minor": 4
}
